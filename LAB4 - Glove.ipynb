{
 "cells": [
  {
   "cell_type": "code",
   "execution_count": 1,
   "metadata": {},
   "outputs": [
    {
     "name": "stderr",
     "output_type": "stream",
     "text": [
      "Found cached dataset imdb (C:/Users/leand/.cache/huggingface/datasets/imdb/plain_text/1.0.0/d613c88cf8fa3bab83b4ded3713f1f74830d1100e171db75bbddb80b3345c9c0)\n"
     ]
    },
    {
     "data": {
      "text/plain": "  0%|          | 0/3 [00:00<?, ?it/s]",
      "application/vnd.jupyter.widget-view+json": {
       "version_major": 2,
       "version_minor": 0,
       "model_id": "7d5fc29366b64fae8b40454bbf2054bc"
      }
     },
     "metadata": {},
     "output_type": "display_data"
    }
   ],
   "source": [
    "from copy import deepcopy\n",
    "from functools import partial\n",
    "from typing import Callable, Dict, Generator, List, Tuple\n",
    "from sklearn.model_selection import train_test_split\n",
    "\n",
    "from datasets import load_dataset\n",
    "import matplotlib.pyplot as plt\n",
    "import numpy as np\n",
    "import pandas as pd\n",
    "from sklearn.utils import shuffle\n",
    "import torch\n",
    "from torch import nn\n",
    "from torchtext import vocab\n",
    "from torchtext.vocab import GloVe\n",
    "from torchtext.data.utils import get_tokenizer\n",
    "\n",
    "import math\n",
    "\n",
    "from tqdm.auto import tqdm\n",
    "\n",
    "dataset = load_dataset(\"imdb\")\n"
   ]
  },
  {
   "attachments": {},
   "cell_type": "markdown",
   "metadata": {},
   "source": [
    "# GloVe"
   ]
  },
  {
   "cell_type": "code",
   "execution_count": 2,
   "metadata": {},
   "outputs": [
    {
     "data": {
      "text/plain": "<torch._C.Generator at 0x27d4f575cb0>"
     },
     "execution_count": 2,
     "metadata": {},
     "output_type": "execute_result"
    }
   ],
   "source": [
    "torch.manual_seed(0)"
   ]
  },
  {
   "cell_type": "code",
   "execution_count": 3,
   "metadata": {},
   "outputs": [
    {
     "data": {
      "text/plain": "400000"
     },
     "execution_count": 3,
     "metadata": {},
     "output_type": "execute_result"
    }
   ],
   "source": [
    "glove = GloVe(name=\"6B\", dim=300)\n",
    "len(glove.stoi)"
   ]
  },
  {
   "cell_type": "code",
   "execution_count": 4,
   "metadata": {},
   "outputs": [
    {
     "data": {
      "text/plain": "(5450, 'cat', torch.Size([300]))"
     },
     "execution_count": 4,
     "metadata": {},
     "output_type": "execute_result"
    }
   ],
   "source": [
    "glove.stoi[\"cat\"], glove.itos[5450], glove.vectors[glove.stoi[\"cat\"]].shape"
   ]
  },
  {
   "cell_type": "code",
   "execution_count": 5,
   "metadata": {},
   "outputs": [
    {
     "data": {
      "text/plain": "['the', ',', '.', 'of', 'to']"
     },
     "execution_count": 5,
     "metadata": {},
     "output_type": "execute_result"
    }
   ],
   "source": [
    "glove.itos[:5]"
   ]
  },
  {
   "cell_type": "code",
   "execution_count": 6,
   "metadata": {},
   "outputs": [
    {
     "name": "stdout",
     "output_type": "stream",
     "text": [
      "cat x cats = 0.6815836429595947\n",
      "cat x dog = 0.6816746592521667\n",
      "cat x fridge = 0.09630905091762543\n"
     ]
    }
   ],
   "source": [
    "words = [\"cat\", \"cats\", \"dog\", \"fridge\"]\n",
    "for word in words[1:]:\n",
    "    similarity = torch.cosine_similarity(\n",
    "        glove.vectors[glove.stoi[words[0]]].reshape(1, -1),\n",
    "        glove.vectors[glove.stoi[word]].reshape(1, -1),\n",
    "    ).item()  # .item() is used to turn a tensor of a single value to a float\n",
    "    print(f\"{words[0]} x {word} = {similarity}\")"
   ]
  },
  {
   "cell_type": "code",
   "execution_count": 7,
   "outputs": [],
   "source": [
    "def closest_word(word : str) -> None:\n",
    "    max_similarity = 0\n",
    "    max_string_similarity = word\n",
    "    for words in glove.itos:\n",
    "        similarity =  torch.cosine_similarity(\n",
    "            glove.vectors[glove.stoi[words]].reshape(1, -1),\n",
    "            glove.vectors[glove.stoi[word]].reshape(1, -1),\n",
    "        ).item()  # .item() is used to turn a tensor of a single value to a float\n",
    "        if (similarity > max_similarity and word != words):\n",
    "                max_similarity = similarity\n",
    "                max_string_similarity = words\n",
    "                #print(f\"{max_string_similarity} x {word_cat} = {max_similarity}\")\n",
    "    print(f\"{max_string_similarity} x {word} = {max_similarity}\")"
   ],
   "metadata": {
    "collapsed": false
   }
  },
  {
   "cell_type": "code",
   "execution_count": 8,
   "metadata": {},
   "outputs": [
    {
     "name": "stdout",
     "output_type": "stream",
     "text": [
      "dog x cat = 0.6816746592521667\n"
     ]
    }
   ],
   "source": [
    "word = \"cat\"\n",
    "\n",
    "closest_word(word)"
   ]
  },
  {
   "cell_type": "code",
   "execution_count": 9,
   "metadata": {},
   "outputs": [
    {
     "name": "stderr",
     "output_type": "stream",
     "text": [
      "Found cached dataset imdb (C:/Users/leand/.cache/huggingface/datasets/imdb/plain_text/1.0.0/d613c88cf8fa3bab83b4ded3713f1f74830d1100e171db75bbddb80b3345c9c0)\n"
     ]
    },
    {
     "data": {
      "text/plain": "  0%|          | 0/3 [00:00<?, ?it/s]",
      "application/vnd.jupyter.widget-view+json": {
       "version_major": 2,
       "version_minor": 0,
       "model_id": "7301713f9fab48fe99f23c4ffcf50752"
      }
     },
     "metadata": {},
     "output_type": "display_data"
    },
    {
     "name": "stderr",
     "output_type": "stream",
     "text": [
      "Loading cached split indices for dataset at C:\\Users\\leand\\.cache\\huggingface\\datasets\\imdb\\plain_text\\1.0.0\\d613c88cf8fa3bab83b4ded3713f1f74830d1100e171db75bbddb80b3345c9c0\\cache-5f37fd0866e4f89f.arrow and C:\\Users\\leand\\.cache\\huggingface\\datasets\\imdb\\plain_text\\1.0.0\\d613c88cf8fa3bab83b4ded3713f1f74830d1100e171db75bbddb80b3345c9c0\\cache-dd5732a0e6ac784c.arrow\n"
     ]
    },
    {
     "data": {
      "text/plain": "((20000, 2), (5000, 2), (25000, 2))"
     },
     "execution_count": 9,
     "metadata": {},
     "output_type": "execute_result"
    }
   ],
   "source": [
    "dataset = load_dataset(\"imdb\")\n",
    "train_dataset = dataset[\"train\"].train_test_split(\n",
    "    stratify_by_column=\"label\", test_size=0.2, seed=42\n",
    ")\n",
    "test_df = dataset[\"test\"]\n",
    "train_df = train_dataset[\"train\"]\n",
    "valid_df = train_dataset[\"test\"]\n",
    "train_df.shape, valid_df.shape, test_df.shape"
   ]
  },
  {
   "cell_type": "code",
   "execution_count": 10,
   "metadata": {},
   "outputs": [],
   "source": [
    "tokenizer = get_tokenizer(\"basic_english\", language=\"en\")\n",
    "\n",
    "def vectorize_text(\n",
    "    text: str, vocabulary: vocab.Vocab, tokenizer: Callable[[str], List[str]]\n",
    ") -> torch.Tensor:\n",
    "    \"\"\"\n",
    "    Turn a string into the average of the vectors of its tokens.\n",
    "    Args:\n",
    "        text: the input text.\n",
    "        vocabulary: a pre-trained Vocab object.\n",
    "        tokenizer: a tokenizer taking a text as input and returning a list of tokens.\n",
    "    Returns:\n",
    "        The average tensor over the tokens of the whole text.\n",
    "    \"\"\"\n",
    "    tokens = tokenizer(text)\n",
    "    vectors = vocabulary.get_vecs_by_tokens(tokens)\n",
    "    return torch.mean(vectors, dim=0)"
   ]
  },
  {
   "cell_type": "code",
   "execution_count": 11,
   "metadata": {},
   "outputs": [],
   "source": [
    "text_pipeline = partial(vectorize_text, vocabulary=glove, tokenizer=tokenizer)\n",
    "assert text_pipeline(\"some text.\").shape == torch.Size([300])"
   ]
  },
  {
   "cell_type": "code",
   "execution_count": 12,
   "metadata": {},
   "outputs": [
    {
     "data": {
      "text/plain": "torch.Size([300])"
     },
     "execution_count": 12,
     "metadata": {},
     "output_type": "execute_result"
    }
   ],
   "source": [
    "text_pipeline(\"some text.\").shape"
   ]
  },
  {
   "cell_type": "code",
   "execution_count": 13,
   "metadata": {},
   "outputs": [
    {
     "data": {
      "text/plain": "  0%|          | 0/20000 [00:00<?, ?it/s]",
      "application/vnd.jupyter.widget-view+json": {
       "version_major": 2,
       "version_minor": 0,
       "model_id": "81feb99114fa412ca533fda26a7cbf2c"
      }
     },
     "metadata": {},
     "output_type": "display_data"
    },
    {
     "data": {
      "text/plain": "  0%|          | 0/5000 [00:00<?, ?it/s]",
      "application/vnd.jupyter.widget-view+json": {
       "version_major": 2,
       "version_minor": 0,
       "model_id": "60892306237048acb59b5652c9016969"
      }
     },
     "metadata": {},
     "output_type": "display_data"
    },
    {
     "data": {
      "text/plain": "  0%|          | 0/25000 [00:00<?, ?it/s]",
      "application/vnd.jupyter.widget-view+json": {
       "version_major": 2,
       "version_minor": 0,
       "model_id": "351c289a3aeb48379f51ca597e89b6ac"
      }
     },
     "metadata": {},
     "output_type": "display_data"
    }
   ],
   "source": [
    "X_train = [text_pipeline(text) for text in tqdm(train_df[\"text\"])]\n",
    "y_train = train_df[\"label\"]\n",
    "X_valid = [text_pipeline(text) for text in tqdm(valid_df[\"text\"])]\n",
    "y_valid = valid_df[\"label\"]\n",
    "X_test = [text_pipeline(text) for text in tqdm(test_df[\"text\"])]\n",
    "y_test = test_df[\"label\"]"
   ]
  },
  {
   "cell_type": "code",
   "execution_count": 14,
   "metadata": {},
   "outputs": [],
   "source": [
    "def data_generator(\n",
    "    X: List[torch.tensor], y: List[int], batch_size: int = 32\n",
    ") -> Generator[Tuple[torch.Tensor, torch.Tensor], None, None]:\n",
    "    \"\"\"\n",
    "    Yield batches from given input data and labels.\n",
    "    Args:\n",
    "        X: a list of tensor (input features).\n",
    "        y: the corresponding labels.\n",
    "        batch_size: the size of every batch [32].\n",
    "    Returns:\n",
    "        A tuple of tensors (features, labels).\n",
    "    \"\"\"\n",
    "    X, y = shuffle(X, y)\n",
    "    num_batches = (len(X) - 1) // batch_size + 1\n",
    "\n",
    "    for i in range(num_batches) :\n",
    "        starting_index = i * batch_size\n",
    "        ending_index = min((i + 1) * batch_size, len(X))\n",
    "        batch_X = X[starting_index:ending_index]\n",
    "        batch_Y = y[starting_index:ending_index]\n",
    "        yield torch.stack(batch_X), torch.tensor(batch_Y)\n"
   ]
  },
  {
   "cell_type": "code",
   "execution_count": 15,
   "metadata": {},
   "outputs": [],
   "source": [
    "train_gen = lambda: data_generator(X_train, y_train, batch_size=32)\n",
    "for X, y in train_gen():\n",
    "    assert X.shape == torch.Size([32, 300])\n",
    "    assert y.shape == torch.Size([32])\n",
    "    break"
   ]
  },
  {
   "cell_type": "code",
   "execution_count": 16,
   "metadata": {},
   "outputs": [],
   "source": [
    "class SimpleClassifer(nn.Module):\n",
    "    \"\"\"\n",
    "    A simple linear classifier.\n",
    "    \"\"\"\n",
    "\n",
    "    def __init__(self, embedding_size: int, nb_classes: int) -> None:\n",
    "        \"\"\"\n",
    "        Args:\n",
    "            embedding_size: the dimension of the input embeddings.\n",
    "        nb_classes: the output dimension.\n",
    "        \"\"\"\n",
    "        super().__init__()\n",
    "        output_layer = nn.Sigmoid() if nb_classes == 1 else nn.Softmax()\n",
    "        self.classifier = torch.nn.Sequential(\n",
    "            nn.Linear(embedding_size, nb_classes),\n",
    "            output_layer,\n",
    "        )\n",
    "\n",
    "    def forward(self, x: torch.Tensor) -> torch.Tensor:\n",
    "        \"\"\"\n",
    "        Args:\n",
    "            x: an input tensor\n",
    "        Returns:\n",
    "            Logits.\n",
    "        \"\"\"\n",
    "        return self.classifier(x)\n",
    "        "
   ]
  },
  {
   "cell_type": "code",
   "execution_count": 17,
   "metadata": {},
   "outputs": [
    {
     "data": {
      "text/plain": "'cpu'"
     },
     "execution_count": 17,
     "metadata": {},
     "output_type": "execute_result"
    }
   ],
   "source": [
    "device = \"cuda:0\" if torch.cuda.is_available() else \"cpu\"\n",
    "device"
   ]
  },
  {
   "cell_type": "code",
   "execution_count": 18,
   "metadata": {},
   "outputs": [],
   "source": [
    "train_gen = lambda: data_generator(X_train, y_train)\n",
    "valid_gen = lambda: data_generator(X_valid, y_valid)\n",
    "test_gen = lambda: data_generator(X_test, y_test)"
   ]
  },
  {
   "cell_type": "code",
   "execution_count": 19,
   "metadata": {},
   "outputs": [],
   "source": [
    "model = SimpleClassifer(300, 1).to(device)\n",
    "criterion = nn.BCEWithLogitsLoss()\n",
    "# You can use another optimizer if you want.\n",
    "optimizer = torch.optim.Adam(model.parameters())"
   ]
  },
  {
   "cell_type": "code",
   "execution_count": 20,
   "metadata": {},
   "outputs": [
    {
     "data": {
      "text/plain": "  0%|          | 0/50 [00:00<?, ?it/s]",
      "application/vnd.jupyter.widget-view+json": {
       "version_major": 2,
       "version_minor": 0,
       "model_id": "5458a8b455804dfaa56392f2cde0c1ad"
      }
     },
     "metadata": {},
     "output_type": "display_data"
    },
    {
     "name": "stdout",
     "output_type": "stream",
     "text": [
      "0.018929996752738952\n",
      "[0.02164841092526913, 0.02122625707089901, 0.020870355609059334, 0.020632296669483186, 0.020450664123892785, 0.020299682399630547, 0.020166972562670707, 0.020046999034285546, 0.01994294542968273, 0.01984753838479519, 0.019760667061805726, 0.019684090548753738, 0.01961574803888798, 0.01955101560354233, 0.019493671798706053, 0.019441862386465072, 0.01939375536441803, 0.019348515462875367, 0.019307673025131224, 0.01927002356648445, 0.019237213806807995, 0.01920419968664646, 0.019172925755381584, 0.019145086270570755, 0.01911993203163147, 0.019091049605607986, 0.019068740141391753, 0.019045593686401845, 0.019023805443942547, 0.019003728629648685, 0.018981815753877165, 0.018965755525231363, 0.01894889529645443, 0.018930240800976755, 0.01891441067457199, 0.018899055720865726, 0.01888585876226425, 0.018868937276303767, 0.01885587679743767, 0.018842168053984643, 0.01883013577312231, 0.018817389132082463, 0.018806509709358217, 0.018794610217213632, 0.018784007930755617, 0.018772919988632203, 0.018761637911200522, 0.018753353519737722, 0.01874297239333391, 0.018733356660604477]\n",
      "[0.021540564227104188, 0.02113425920009613, 0.020856797909736633, 0.02067104948759079, 0.020481650745868683, 0.020361527585983277, 0.02022461074590683, 0.020115335869789124, 0.020017865347862245, 0.019943841016292572, 0.019869328737258912, 0.019805966210365296, 0.01972867387533188, 0.019686761569976806, 0.019632894623279572, 0.01957392632961273, 0.019534497797489166, 0.019494928300380708, 0.01946581996679306, 0.019421937942504883, 0.019392979443073274, 0.01936517128944397, 0.019341273832321166, 0.019298479330539704, 0.01930430577993393, 0.01925807852745056, 0.019240948307514192, 0.01922623767852783, 0.01919926369190216, 0.019188466465473175, 0.019148043233156203, 0.019144296514987946, 0.019116836273670196, 0.019117013323307036, 0.019096005654335023, 0.01908646482229233, 0.01906460771560669, 0.01906434808373451, 0.019025493788719178, 0.019041683626174928, 0.019017882382869722, 0.019000090712308883, 0.01901396210193634, 0.018978138613700866, 0.01897082442045212, 0.01896100103855133, 0.018986782240867615, 0.01895565059185028, 0.018929996752738952, 0.018933952277898788]\n"
     ]
    }
   ],
   "source": [
    "nb_epochs = 50\n",
    "train_losses, valid_losses = [], []\n",
    "\n",
    "best_model = model\n",
    "best_validation_loss = np.Inf\n",
    "\n",
    "for epoch in tqdm(range(nb_epochs)):\n",
    "\n",
    "    # training\n",
    "    model.train()\n",
    "    train_loss = 0.0\n",
    "    # training loop\n",
    "    for batch_X, batch_Y in train_gen():\n",
    "        optimizer.zero_grad()\n",
    "        logits = model(batch_X.to(device)).squeeze()\n",
    "        loss = criterion(logits, batch_Y.float())#to device\n",
    "        train_loss += loss.item()\n",
    "        \n",
    "        loss.backward()\n",
    "        optimizer.step()\n",
    "      \n",
    "    train_losses.append(train_loss / len(X_train))\n",
    "\n",
    "\n",
    "    \n",
    "    # validation\n",
    "    model.eval()\n",
    "    valid_loss = 0.0\n",
    "    # validation loop\n",
    "    with torch.no_grad():\n",
    "        for batch_X, batch_Y in valid_gen():\n",
    "            logits = model(batch_X.to(device)).squeeze()\n",
    "            loss = criterion(logits, batch_Y.float())\n",
    "            valid_loss += loss.item()\n",
    "    valid_losses.append(valid_loss / len(X_valid))\n",
    "\n",
    "    if (valid_losses[-1] < best_validation_loss) :\n",
    "        best_validation_loss = valid_losses[-1]\n",
    "        best_model = deepcopy(model)\n",
    "\n",
    "print(best_validation_loss)\n",
    "print(train_losses)\n",
    "print(valid_losses)"
   ]
  },
  {
   "cell_type": "code",
   "execution_count": 21,
   "metadata": {},
   "outputs": [
    {
     "data": {
      "text/plain": "<matplotlib.legend.Legend at 0x27d53ec7010>"
     },
     "execution_count": 21,
     "metadata": {},
     "output_type": "execute_result"
    },
    {
     "data": {
      "text/plain": "<Figure size 640x480 with 1 Axes>",
      "image/png": "[encoded data removed]"
     },
     "metadata": {},
     "output_type": "display_data"
    }
   ],
   "source": [
    "plt.plot(train_losses, label=\"train loss\")\n",
    "plt.plot(valid_losses, label=\"valid loss\")\n",
    "plt.legend()"
   ]
  },
  {
   "cell_type": "code",
   "execution_count": 22,
   "metadata": {},
   "outputs": [
    {
     "name": "stdout",
     "output_type": "stream",
     "text": [
      "0.80375 0.8 0.79572\n"
     ]
    }
   ],
   "source": [
    "def accuracy_computing(generator,X):\n",
    "    best_model.eval()\n",
    "    accuracy = 0\n",
    "    with torch.no_grad():\n",
    "        for batch_X, batch_Y in generator():\n",
    "            logits = best_model(batch_X).squeeze()\n",
    "            predictions = (logits > 0.5)\n",
    "            accuracy += (predictions.int() == batch_Y).int().sum().item()\n",
    "    accuracy /= len(X)\n",
    "    return accuracy\n",
    "        \n",
    "\n",
    "train_accuracy = accuracy_computing(train_gen, X_train)\n",
    "valid_accuracy = accuracy_computing(valid_gen, X_valid)\n",
    "test_accuracy = accuracy_computing(test_gen, X_test)\n",
    "\n",
    "print(train_accuracy, valid_accuracy, test_accuracy)"
   ]
  },
  {
   "cell_type": "code",
   "execution_count": 23,
   "outputs": [],
   "source": [
    "def predict(\n",
    "    text: str,\n",
    "    text_pipeline: Callable[[str], torch.Tensor],\n",
    "    model: nn.Module,\n",
    "    device: str,\n",
    ") -> Tuple[int, float]:\n",
    "    \"\"\"\n",
    "    Return the predicted class and score for a given input.\n",
    "    Args:\n",
    "        text: a given review.\n",
    "        text_pipeline: a function taking a text as input and returning a tensor (model's input).\n",
    "        model: a pre-trained model.\n",
    "        device: the device on which the computation occurs.\n",
    "    Returns:\n",
    "        A tuple (label, score).\n",
    "    \"\"\"\n",
    "    score = model.forward(text_pipeline(text)).to(device)[0].item()\n",
    "    return int(score > 0.5), score"
   ],
   "metadata": {
    "collapsed": false
   }
  },
  {
   "cell_type": "code",
   "execution_count": 24,
   "outputs": [
    {
     "name": "stdout",
     "output_type": "stream",
     "text": [
      "After reading tons of good reviews about this movie I decided to take it for a spin (I bought it on DVD, hence the \"spin\" pun...I'm a dork). The beginning was everything I hoped for, a perfect set-up (along with some quotes that I've heard on Various Wu-Tang albums) to what should have been a good movie. But the plot I heard was so great, was so predictable. Every time I saw a character (except for the Lizard) I guessed which Venom he was. Plus, the only cool character gets killed off in the middle of the movie. Ok, so the plot wasn't very good but at least there was some good kung-fu right? Wrong. The fights were very short and few and far between. Granted the different styles were all pretty cool but I wish the fights were longer. I kept hoping to see the Lizard run and do some crazy ish on the walls but it never happened. I was hoping to see the Centipede do some tight speedy ish but it never happened. I was hoping to see the Scorpion in the movie for more than 7 total minutes but it never happened. In short, not much happens. The fighting is all pretty routine. Don't be fooled just becuase this movie has a plot, it does not mean it's a good one.\n",
      "Résultat obtenu : 0\n",
      "Résultat escompté : 1\n",
      "Score obtenu : 0.02742779813706875\n",
      "\n",
      "\n",
      "\n",
      "\n",
      "\n",
      "\n",
      "I saw this film last night following a lot of good reviews from many sources. I would like to point out that if your not ready to try and work out continuously who is who and what it all means you will hate this film.<br /><br />I am still struggling to understand the roles of the actors in this film, the film jumps from different stories and does not allow you to really empathise with any of the roles.<br /><br />For the political buff's and those interested in corruption in other world governments out there this film is probably quite good, but to the average movie watcher this film is awkward,very boring in places and you will leave the cinema confused and annoyed that you paid the entrance fee.<br /><br />see it if your ready to focus 100% on every minute detail or politics interest you. don't see it, if you actually like watching films.\n",
      "Résultat obtenu : 1\n",
      "Résultat escompté : 0\n",
      "Score obtenu : 0.6842144727706909\n"
     ]
    }
   ],
   "source": [
    "def error_searching(X_train: list[str], y_train: list[int]) -> None:\n",
    "    best_model.eval()\n",
    "    found = 0\n",
    "    i = 0\n",
    "    while i < len(X_train) and found < 2:\n",
    "        result, score = predict(X_train[i], text_pipeline, best_model, device)\n",
    "        if result != y_train[i]:\n",
    "            print(X_train[i])\n",
    "            print(\"Résultat obtenu :\", result)\n",
    "            print(\"Résultat escompté :\", y_train[i])\n",
    "            print(\"Score obtenu :\", score)\n",
    "            if found == 0:\n",
    "                print(\"\\n\\n\\n\\n\\n\")\n",
    "            found += 1\n",
    "        i += 1\n",
    "\n",
    "error_searching(train_df[\"text\"], train_df[\"label\"])"
   ],
   "metadata": {
    "collapsed": false
   }
  },
  {
   "cell_type": "code",
   "execution_count": 25,
   "outputs": [
    {
     "data": {
      "text/plain": "int"
     },
     "execution_count": 25,
     "metadata": {},
     "output_type": "execute_result"
    }
   ],
   "source": [
    "type(train_df[\"label\"][0])"
   ],
   "metadata": {
    "collapsed": false
   }
  },
  {
   "cell_type": "markdown",
   "source": [
    "Le premier texte correspond à un avis d'une personne très déçue du film qu'elle a vu. Elle a donc globalement apprécié, mais beaucoup moins que ce qu'elle n'aurait voulu : son texte étant majoritairement négatif, notre classifieur l'a donc noté comme étant extrêmement négatif avec un score de 0.02.\n",
    "\n",
    "Le second texte, quant à lui, indique que le film était intéressant, mais beaucoup trop complexe et difficile à suivre pour être appréciable en tant que visionnage tranquille : malgré tous les points positif qu'il cite, l'auteur indique clairement qu'il n'a presque rien compris à l'histoire. D'où son avis négatif, et notre estimation positive.\n"
   ],
   "metadata": {
    "collapsed": false
   }
  },
  {
   "cell_type": "code",
   "execution_count": 26,
   "outputs": [
    {
     "data": {
      "text/plain": "(0, 0.21154265105724335)"
     },
     "execution_count": 26,
     "metadata": {},
     "output_type": "execute_result"
    }
   ],
   "source": [
    "text = \"In my long years as a movie reviewers, I have seen good and bad movies. But nothing as controversially in the middle.\"\n",
    "predict(text, text_pipeline, model, device)"
   ],
   "metadata": {
    "collapsed": false
   }
  }
 ],
 "metadata": {
  "kernelspec": {
   "display_name": "Python 3",
   "language": "python",
   "name": "python3"
  },
  "language_info": {
   "codemirror_mode": {
    "name": "ipython",
    "version": 3
   },
   "file_extension": ".py",
   "mimetype": "text/x-python",
   "name": "python",
   "nbconvert_exporter": "python",
   "pygments_lexer": "ipython3",
   "version": "3.10.10"
  },
  "orig_nbformat": 4
 },
 "nbformat": 4,
 "nbformat_minor": 2
}
