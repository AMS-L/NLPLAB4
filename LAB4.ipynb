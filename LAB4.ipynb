{
 "cells": [
  {
   "cell_type": "code",
   "execution_count": 5,
   "metadata": {},
   "outputs": [
    {
     "name": "stderr",
     "output_type": "stream",
     "text": [
      "/Users/nanditraore/anaconda3/lib/python3.10/site-packages/tqdm/auto.py:21: TqdmWarning: IProgress not found. Please update jupyter and ipywidgets. See https://ipywidgets.readthedocs.io/en/stable/user_install.html\n",
      "  from .autonotebook import tqdm as notebook_tqdm\n",
      "Found cached dataset imdb (/Users/nanditraore/.cache/huggingface/datasets/imdb/plain_text/1.0.0/d613c88cf8fa3bab83b4ded3713f1f74830d1100e171db75bbddb80b3345c9c0)\n",
      "100%|██████████| 3/3 [00:00<00:00, 62.01it/s]\n"
     ]
    }
   ],
   "source": [
    "from copy import deepcopy\n",
    "from functools import partial\n",
    "from typing import Callable, Dict, Generator, List, Tuple\n",
    "from sklearn.model_selection import train_test_split\n",
    "\n",
    "from datasets import load_dataset\n",
    "import matplotlib.pyplot as plt\n",
    "import numpy as np\n",
    "import pandas as pd\n",
    "from sklearn.utils import shuffle\n",
    "import torch\n",
    "from torch import nn\n",
    "from torchtext import vocab\n",
    "from torchtext.vocab import GloVe\n",
    "from torchtext.data.utils import get_tokenizer\n",
    "\n",
    "from tqdm.auto import tqdm\n",
    "\n",
    "dataset = load_dataset(\"imdb\")\n"
   ]
  },
  {
   "attachments": {},
   "cell_type": "markdown",
   "metadata": {},
   "source": [
    "# GloVe"
   ]
  },
  {
   "cell_type": "code",
   "execution_count": 6,
   "metadata": {},
   "outputs": [
    {
     "data": {
      "text/plain": [
       "<torch._C.Generator at 0x7ff1f23e09d0>"
      ]
     },
     "execution_count": 6,
     "metadata": {},
     "output_type": "execute_result"
    }
   ],
   "source": [
    "torch.manual_seed(0)"
   ]
  },
  {
   "cell_type": "code",
   "execution_count": 7,
   "metadata": {},
   "outputs": [
    {
     "data": {
      "text/plain": [
       "400000"
      ]
     },
     "execution_count": 7,
     "metadata": {},
     "output_type": "execute_result"
    }
   ],
   "source": [
    "glove = GloVe(name=\"6B\", dim=300)\n",
    "len(glove.stoi)"
   ]
  },
  {
   "cell_type": "code",
   "execution_count": 8,
   "metadata": {},
   "outputs": [
    {
     "data": {
      "text/plain": [
       "(5450, 'cat', torch.Size([300]))"
      ]
     },
     "execution_count": 8,
     "metadata": {},
     "output_type": "execute_result"
    }
   ],
   "source": [
    "glove.stoi[\"cat\"], glove.itos[5450], glove.vectors[glove.stoi[\"cat\"]].shape"
   ]
  },
  {
   "cell_type": "code",
   "execution_count": 9,
   "metadata": {},
   "outputs": [
    {
     "data": {
      "text/plain": [
       "['the', ',', '.', 'of', 'to']"
      ]
     },
     "execution_count": 9,
     "metadata": {},
     "output_type": "execute_result"
    }
   ],
   "source": [
    "glove.itos[:5]"
   ]
  },
  {
   "cell_type": "code",
   "execution_count": 10,
   "metadata": {},
   "outputs": [
    {
     "name": "stdout",
     "output_type": "stream",
     "text": [
      "cat x cats = 0.6815836429595947\n",
      "cat x dog = 0.6816746592521667\n",
      "cat x fridge = 0.09630905091762543\n"
     ]
    }
   ],
   "source": [
    "words = [\"cat\", \"cats\", \"dog\", \"fridge\"]\n",
    "for word in words[1:]:\n",
    "    similarity = torch.cosine_similarity(\n",
    "        glove.vectors[glove.stoi[words[0]]].reshape(1, -1),\n",
    "        glove.vectors[glove.stoi[word]].reshape(1, -1),\n",
    "    ).item()  # .item() is used to turn a tensor of a single value to a float\n",
    "    print(f\"{words[0]} x {word} = {similarity}\")\n"
   ]
  },
  {
   "cell_type": "code",
   "execution_count": 11,
   "metadata": {},
   "outputs": [],
   "source": [
    "word_cat = \"cat\"\n",
    "\n",
    "def closest_word() :\n",
    "    max_similarity = 0\n",
    "    max_string_similarity = word_cat\n",
    "    for word in glove.itos:\n",
    "        similarity =  torch.cosine_similarity(\n",
    "            glove.vectors[glove.stoi[word]].reshape(1, -1),\n",
    "            glove.vectors[glove.stoi[word_cat]].reshape(1, -1),\n",
    "        ).item()  # .item() is used to turn a tensor of a single value to a float\n",
    "        if (similarity > max_similarity and word != word_cat):\n",
    "                max_similarity = similarity\n",
    "                max_string_similarity = word\n",
    "                #print(f\"{max_string_similarity} x {word_cat} = {max_similarity}\")\n",
    "    print(f\"{max_string_similarity} x {word_cat} = {max_similarity}\")\n",
    "    "
   ]
  },
  {
   "cell_type": "code",
   "execution_count": 12,
   "metadata": {},
   "outputs": [
    {
     "name": "stdout",
     "output_type": "stream",
     "text": [
      "dog x cat = 0.6816746592521667\n"
     ]
    }
   ],
   "source": [
    "closest_word()"
   ]
  },
  {
   "cell_type": "code",
   "execution_count": 13,
   "metadata": {},
   "outputs": [
    {
     "name": "stderr",
     "output_type": "stream",
     "text": [
      "Found cached dataset imdb (/Users/nanditraore/.cache/huggingface/datasets/imdb/plain_text/1.0.0/d613c88cf8fa3bab83b4ded3713f1f74830d1100e171db75bbddb80b3345c9c0)\n",
      "100%|██████████| 3/3 [00:00<00:00, 315.76it/s]\n",
      "Loading cached split indices for dataset at /Users/nanditraore/.cache/huggingface/datasets/imdb/plain_text/1.0.0/d613c88cf8fa3bab83b4ded3713f1f74830d1100e171db75bbddb80b3345c9c0/cache-5f37fd0866e4f89f.arrow and /Users/nanditraore/.cache/huggingface/datasets/imdb/plain_text/1.0.0/d613c88cf8fa3bab83b4ded3713f1f74830d1100e171db75bbddb80b3345c9c0/cache-dd5732a0e6ac784c.arrow\n"
     ]
    },
    {
     "data": {
      "text/plain": [
       "((20000, 2), (5000, 2), (25000, 2))"
      ]
     },
     "execution_count": 13,
     "metadata": {},
     "output_type": "execute_result"
    }
   ],
   "source": [
    "dataset = load_dataset(\"imdb\")\n",
    "train_dataset = dataset[\"train\"].train_test_split(\n",
    "    stratify_by_column=\"label\", test_size=0.2, seed=42\n",
    ")\n",
    "test_df = dataset[\"test\"]\n",
    "train_df = train_dataset[\"train\"]\n",
    "valid_df = train_dataset[\"test\"]\n",
    "train_df.shape, valid_df.shape, test_df.shape"
   ]
  },
  {
   "cell_type": "code",
   "execution_count": 14,
   "metadata": {},
   "outputs": [],
   "source": [
    "tokenizer = get_tokenizer(\"basic_english\", language=\"en\")\n",
    "\n",
    "def vectorize_text(\n",
    "    text: str, vocabulary: vocab.Vocab, tokenizer: Callable[[str], List[str]]\n",
    ") -> torch.Tensor:\n",
    "    \"\"\"\n",
    "    Turn a string into the average of the vectors of its tokens.\n",
    "    Args:\n",
    "        text: the input text.\n",
    "        vocabulary: a pre-trained Vocab object.\n",
    "        tokenizer: a tokenizer taking a text as input and returning a list of tokens.\n",
    "    Returns:\n",
    "        The average tensor over the tokens of the whole text.\n",
    "    \"\"\"\n",
    "    tokens = tokenizer(text)\n",
    "    vectors = vocabulary.get_vecs_by_tokens(tokens)\n",
    "    return torch.mean(vectors, dim=0)\n",
    "    # Your code"
   ]
  },
  {
   "cell_type": "code",
   "execution_count": 15,
   "metadata": {},
   "outputs": [],
   "source": [
    "text_pipeline = partial(vectorize_text, vocabulary=glove, tokenizer=tokenizer)\n",
    "assert text_pipeline(\"some text.\").shape == torch.Size([300])"
   ]
  },
  {
   "cell_type": "code",
   "execution_count": 16,
   "metadata": {},
   "outputs": [
    {
     "data": {
      "text/plain": [
       "torch.Size([300])"
      ]
     },
     "execution_count": 16,
     "metadata": {},
     "output_type": "execute_result"
    }
   ],
   "source": [
    "text_pipeline(\"some text.\").shape"
   ]
  },
  {
   "cell_type": "code",
   "execution_count": 17,
   "metadata": {},
   "outputs": [
    {
     "name": "stderr",
     "output_type": "stream",
     "text": [
      "100%|██████████| 20000/20000 [00:16<00:00, 1247.69it/s]\n",
      "100%|██████████| 5000/5000 [00:03<00:00, 1284.62it/s]\n",
      "100%|██████████| 25000/25000 [00:18<00:00, 1338.70it/s]\n"
     ]
    }
   ],
   "source": [
    "X_train = [text_pipeline(text) for text in tqdm(train_df[\"text\"])]\n",
    "y_train = train_df[\"label\"]\n",
    "X_valid = [text_pipeline(text) for text in tqdm(valid_df[\"text\"])]\n",
    "y_valid = valid_df[\"label\"]\n",
    "X_test = [text_pipeline(text) for text in tqdm(test_df[\"text\"])]\n",
    "y_test = test_df[\"label\"]"
   ]
  },
  {
   "cell_type": "code",
   "execution_count": 18,
   "metadata": {},
   "outputs": [],
   "source": [
    "def data_generator(\n",
    "    X: List[torch.tensor], y: List[int], batch_size: int = 32\n",
    ") -> Generator[Tuple[torch.Tensor, torch.Tensor], None, None]:\n",
    "    \"\"\"\n",
    "    Yield batches from given input data and labels.\n",
    "    Args:\n",
    "        X: a list of tensor (input features).\n",
    "        y: the corresponding labels.\n",
    "        batch_size: the size of every batch [32].\n",
    "    Returns:\n",
    "        A tuple of tensors (features, labels).\n",
    "    \"\"\"\n",
    "    X, y = shuffle(X, y)\n",
    "    num_batches = (len(X) - 1) // batch_size + 1\n",
    "\n",
    "    for i in range(num_batches) :\n",
    "        starting_index = i * batch_size\n",
    "        ending_index = min((i + 1) * batch_size, len(X))\n",
    "        batch_X = X[starting_index:ending_index]\n",
    "        batch_Y = y[starting_index:ending_index]\n",
    "        yield torch.stack(batch_X), torch.tensor(batch_Y)\n"
   ]
  },
  {
   "cell_type": "code",
   "execution_count": 19,
   "metadata": {},
   "outputs": [],
   "source": [
    "train_gen = lambda: data_generator(X_train, y_train, batch_size=32)\n",
    "for X, y in train_gen():\n",
    "    #print(X.shape)\n",
    "    assert X.shape == torch.Size([32, 300])\n",
    "    assert y.shape == torch.Size([32])\n",
    "    break"
   ]
  },
  {
   "cell_type": "code",
   "execution_count": 20,
   "metadata": {},
   "outputs": [],
   "source": [
    "class SimpleClassifer(nn.Module):\n",
    "    \"\"\"\n",
    "    A simple linear classifier.\n",
    "    \"\"\"\n",
    "\n",
    "    def __init__(self, embedding_size: int, nb_classes: int) -> None:\n",
    "        \"\"\"\n",
    "        Args:\n",
    "            embedding_size: the dimension of the input embeddings.\n",
    "        nb_classes: the output dimension.\n",
    "        \"\"\"\n",
    "        super().__init__()\n",
    "        output_layer = nn.Sigmoid() if nb_classes == 1 else nn.Softmax()\n",
    "        self.classifier = torch.nn.Sequential(\n",
    "            nn.Linear(embedding_size, nb_classes),\n",
    "            output_layer,\n",
    "        )\n",
    "\n",
    "    def forward(self, x: torch.Tensor) -> torch.Tensor:\n",
    "        \"\"\"\n",
    "        Args:\n",
    "            x: an input tensor\n",
    "        Returns:\n",
    "            Logits.\n",
    "        \"\"\"\n",
    "        return self.classifier(x)\n",
    "        "
   ]
  },
  {
   "cell_type": "code",
   "execution_count": 21,
   "metadata": {},
   "outputs": [
    {
     "data": {
      "text/plain": [
       "'cpu'"
      ]
     },
     "execution_count": 21,
     "metadata": {},
     "output_type": "execute_result"
    }
   ],
   "source": [
    "device = \"cuda:0\" if torch.cuda.is_available() else \"cpu\"\n",
    "device"
   ]
  },
  {
   "cell_type": "code",
   "execution_count": 22,
   "metadata": {},
   "outputs": [],
   "source": [
    "train_gen = lambda: data_generator(X_train, y_train)\n",
    "valid_gen = lambda: data_generator(X_valid, y_valid)\n",
    "test_gen = lambda: data_generator(X_test, y_test)"
   ]
  },
  {
   "cell_type": "code",
   "execution_count": 23,
   "metadata": {},
   "outputs": [],
   "source": [
    "model = SimpleClassifer(300, 1).to(device)\n",
    "criterion = nn.BCEWithLogitsLoss()\n",
    "# You can use another optimizer if you want.\n",
    "optimizer = torch.optim.Adam(model.parameters())"
   ]
  },
  {
   "cell_type": "code",
   "execution_count": 24,
   "metadata": {},
   "outputs": [
    {
     "name": "stderr",
     "output_type": "stream",
     "text": [
      "100%|██████████| 50/50 [00:09<00:00,  5.21it/s]"
     ]
    },
    {
     "name": "stdout",
     "output_type": "stream",
     "text": [
      "0.018923558747768403\n",
      "[0.021659295138716696, 0.02124224317073822, 0.02088166713118553, 0.020635808646678924, 0.020452489534020422, 0.020302874222397804, 0.02017060003876686, 0.02005131010711193, 0.01994435657262802, 0.019847798988223076, 0.019761236706376077, 0.019686215656995774, 0.019613857927918435, 0.019553485316038132, 0.019495041924715042, 0.01944295780658722, 0.01939616546332836, 0.019351739338040352, 0.019309647968411444, 0.019272623991966248, 0.0192377144664526, 0.019203860220313073, 0.019173264642059804, 0.01914372842311859, 0.019117802000045776, 0.019092281797528268, 0.019066058680415155, 0.019044395834207535, 0.01902356532514095, 0.019003152534365655, 0.01898302835226059, 0.01896500976085663, 0.01894654606282711, 0.018930311231315135, 0.018913531836867333, 0.018898937179148197, 0.01888406974673271, 0.018870708049833776, 0.018856332620978355, 0.0188427346393466, 0.018829976209998132, 0.018818544241786004, 0.018806759664416313, 0.018795015217363834, 0.018783222323656083, 0.01877366018295288, 0.018762822370231153, 0.01875257392525673, 0.018743536990880966, 0.01873275921344757]\n",
      "[0.02157489562034607, 0.021162017619609834, 0.020867680156230927, 0.020667392313480377, 0.020509667909145355, 0.020374505758285522, 0.02024776473045349, 0.020135018002986907, 0.020029633569717407, 0.019933041203022004, 0.019845403015613557, 0.019804009675979613, 0.019721807444095612, 0.019681396234035493, 0.01963840891122818, 0.01958332842588425, 0.01956683393716812, 0.01950000492334366, 0.0194900306224823, 0.019426708769798278, 0.019394300305843354, 0.019382687717676164, 0.019357526528835295, 0.019306550681591032, 0.01927961584329605, 0.019257571625709534, 0.019225452852249147, 0.019210487020015717, 0.019187708127498627, 0.01917938812971115, 0.019157481265068055, 0.019159984600543977, 0.01912864317893982, 0.01911881047487259, 0.01908072416782379, 0.01908356407880783, 0.019074012112617493, 0.019058008670806884, 0.019030358052253723, 0.019015073829889297, 0.019008993268013, 0.019033121156692506, 0.01900015536546707, 0.01898434037566185, 0.018975481939315794, 0.018966699302196504, 0.018964363098144532, 0.01892658032178879, 0.01895368537902832, 0.018923558747768403]\n"
     ]
    },
    {
     "name": "stderr",
     "output_type": "stream",
     "text": [
      "\n"
     ]
    }
   ],
   "source": [
    "import math\n",
    "\n",
    "nb_epochs = 50\n",
    "train_losses, valid_losses = [], []\n",
    "\n",
    "best_model = model\n",
    "best_validation_loss = np.Inf\n",
    "\n",
    "for epoch in tqdm(range(nb_epochs)):\n",
    "\n",
    "    # training\n",
    "    model.train()\n",
    "    train_loss = 0.0\n",
    "    # training loop\n",
    "    for batch_X, batch_Y in train_gen():\n",
    "        optimizer.zero_grad()\n",
    "        logits = model(batch_X.to(device)).squeeze()\n",
    "        loss = criterion(logits, batch_Y.float())#to device\n",
    "        train_loss += loss.item()\n",
    "        \n",
    "        loss.backward()\n",
    "        optimizer.step()\n",
    "      \n",
    "    train_losses.append(train_loss / len(X_train))\n",
    "\n",
    "\n",
    "    \n",
    "    # validation\n",
    "    model.eval()\n",
    "    valid_loss = 0.0\n",
    "    # validation loop\n",
    "    with torch.no_grad():\n",
    "        for batch_X, batch_Y in valid_gen():\n",
    "            logits = model(batch_X.to(device)).squeeze()\n",
    "            loss = criterion(logits, batch_Y.float())\n",
    "            valid_loss += loss.item()\n",
    "    valid_losses.append(valid_loss / len(X_valid))\n",
    "\n",
    "    if (valid_losses[-1] < best_validation_loss) :\n",
    "        best_validation_loss = valid_losses[-1]\n",
    "        best_model = deepcopy(model)\n",
    "\n",
    "print(best_validation_loss)\n",
    "print(train_losses)\n",
    "print(valid_losses)\n",
    "    "
   ]
  },
  {
   "cell_type": "code",
   "execution_count": 25,
   "metadata": {},
   "outputs": [
    {
     "data": {
      "text/plain": [
       "<matplotlib.legend.Legend at 0x7ff242fd7ac0>"
      ]
     },
     "execution_count": 25,
     "metadata": {},
     "output_type": "execute_result"
    },
    {
     "data": {
      "image/png": "[encoded data removed]",
      "text/plain": [
       "<Figure size 640x480 with 1 Axes>"
      ]
     },
     "metadata": {},
     "output_type": "display_data"
    }
   ],
   "source": [
    "plt.plot(train_losses, label=\"train loss\")\n",
    "plt.plot(valid_losses, label=\"valid loss\")\n",
    "plt.legend()"
   ]
  },
  {
   "cell_type": "code",
   "execution_count": 26,
   "metadata": {},
   "outputs": [
    {
     "name": "stdout",
     "output_type": "stream",
     "text": [
      "0.984375 0.98428125 0.9843525\n"
     ]
    }
   ],
   "source": [
    "def accuracy_computing(generator,X):\n",
    "    best_model.eval()\n",
    "    final_loss = 0\n",
    "    accuracy = 0\n",
    "    with torch.no_grad():\n",
    "        for batch_X, batch_Y in generator():\n",
    "            logits = best_model(batch_X).squeeze()\n",
    "            loss = criterion(logits, batch_Y.float())\n",
    "            final_loss += loss.item()\n",
    "            predictions = (logits > 0)\n",
    "            accuracy += (predictions == batch_Y).float().mean().item()\n",
    "    final_loss /= len(X)\n",
    "    accuracy /= len(X)\n",
    "    return 1 - accuracy\n",
    "        \n",
    "\n",
    "train_accuracy = accuracy_computing(train_gen, X_train)\n",
    "valid_accuracy = accuracy_computing(valid_gen, X_valid)\n",
    "test_accuracy = accuracy_computing(test_gen, X_test)\n",
    "\n",
    "print(train_accuracy, valid_accuracy, test_accuracy)"
   ]
  },
  {
   "cell_type": "markdown",
   "metadata": {},
   "source": [
    "# II- FastText"
   ]
  },
  {
   "cell_type": "code",
   "execution_count": 27,
   "metadata": {},
   "outputs": [],
   "source": [
    "import fasttext as ft"
   ]
  },
  {
   "cell_type": "markdown",
   "metadata": {},
   "source": [
    "1- Turn the dataset into a dataset compatible with Fastext"
   ]
  },
  {
   "cell_type": "code",
   "execution_count": 28,
   "metadata": {},
   "outputs": [],
   "source": [
    "import string\n",
    "\n",
    "def preprocess(data : dict) -> dict:\n",
    "    '''Takes a document from a dataset, lowers the letters and\n",
    "    replace all punctuations by spaces'''\n",
    "    text = data[\"text\"]\n",
    "    for character in string.punctuation:\n",
    "        if character != \"-\":\n",
    "          text = text.replace(character, ' ')\n",
    "    data[\"text\"] = text.lower()\n",
    "    return data"
   ]
  },
  {
   "cell_type": "code",
   "execution_count": 29,
   "metadata": {},
   "outputs": [
    {
     "name": "stderr",
     "output_type": "stream",
     "text": [
      "Loading cached processed dataset at /Users/nanditraore/.cache/huggingface/datasets/imdb/plain_text/1.0.0/d613c88cf8fa3bab83b4ded3713f1f74830d1100e171db75bbddb80b3345c9c0/cache-ab3a7119bbf33038.arrow\n",
      "Loading cached processed dataset at /Users/nanditraore/.cache/huggingface/datasets/imdb/plain_text/1.0.0/d613c88cf8fa3bab83b4ded3713f1f74830d1100e171db75bbddb80b3345c9c0/cache-4b4bf0f1f7f30d24.arrow\n",
      "Loading cached processed dataset at /Users/nanditraore/.cache/huggingface/datasets/imdb/plain_text/1.0.0/d613c88cf8fa3bab83b4ded3713f1f74830d1100e171db75bbddb80b3345c9c0/cache-ed3318b52d5380e8.arrow\n"
     ]
    }
   ],
   "source": [
    "updated_dataset = dataset.map(preprocess)\n"
   ]
  },
  {
   "cell_type": "code",
   "execution_count": 30,
   "metadata": {},
   "outputs": [],
   "source": [
    "def to_ft_dataset(dataset, file):\n",
    "    with open(file, 'w') as f:\n",
    "        for d in dataset:\n",
    "            label = '__label__' + str(d['label'])\n",
    "            text = d['text']\n",
    "            f.write(label + ' ' + text + '\\n')\n",
    "    return file"
   ]
  },
  {
   "cell_type": "markdown",
   "metadata": {},
   "source": [
    "2- Train a FastText classifier with default parameters"
   ]
  },
  {
   "cell_type": "code",
   "execution_count": 31,
   "metadata": {},
   "outputs": [],
   "source": [
    "train_ft_file = to_ft_dataset(updated_dataset[\"train\"], \"ft_train_dataset.txt\")\n",
    "test_ft_file = to_ft_dataset(updated_dataset[\"test\"], \"ft_test_dataset.txt\")"
   ]
  },
  {
   "cell_type": "code",
   "execution_count": 32,
   "metadata": {},
   "outputs": [],
   "source": [
    "import random\n",
    "\n",
    "with open(\"ft_train_dataset.txt\", 'r') as f:\n",
    "    train_lines = f.readlines()\n",
    "\n",
    "# Shuffle the training data\n",
    "shuffle(train_lines)\n",
    "with open(\"ft_train_dataset.txt\", 'w') as f:\n",
    "    f.writelines(train_lines)"
   ]
  },
  {
   "cell_type": "code",
   "execution_count": 33,
   "metadata": {},
   "outputs": [
    {
     "name": "stderr",
     "output_type": "stream",
     "text": [
      "Read 6M words\n",
      "Number of words:  96171\n",
      "Number of labels: 2\n",
      "Progress: 100.0% words/sec/thread: 3210760 lr:  0.000000 avg.loss:  0.349749 ETA:   0h 0m 0s\n"
     ]
    }
   ],
   "source": [
    "model = ft.train_supervised(input=\"ft_train_dataset.txt\")"
   ]
  },
  {
   "cell_type": "code",
   "execution_count": 34,
   "metadata": {},
   "outputs": [
    {
     "name": "stdout",
     "output_type": "stream",
     "text": [
      "L'accuracy est de: 0.85896 %\n"
     ]
    }
   ],
   "source": [
    "_, p, _ = model.test(test_ft_file)\n",
    "print(\"L'accuracy est de:\", p, \"%\")"
   ]
  },
  {
   "cell_type": "markdown",
   "metadata": {},
   "source": [
    "3- Use the hyperparameters search functionality of FastText"
   ]
  },
  {
   "cell_type": "code",
   "execution_count": 35,
   "metadata": {},
   "outputs": [],
   "source": [
    "\n",
    "with open(\"ft_train_dataset.txt\", 'r') as f:\n",
    "    data = []\n",
    "    labels = []\n",
    "    for line in f:\n",
    "        label, text = line.split(maxsplit=1)\n",
    "        data.append(text)\n",
    "        labels.append(label)\n",
    "\n",
    "X_train, X_valid, Y_train, Y_valid = train_test_split(data, labels, test_size=0.2, stratify=labels, random_state=42)\n",
    "\n",
    "# Combine the data and labels into the format expected by FastText\n",
    "train = [f\"{label} {text.strip()}\\n\" for label, text in zip(Y_train, X_train)]\n",
    "val = [f\"{label} {text.strip()}\\n\" for label, text in zip(Y_valid, X_valid)]\n",
    "\n",
    "# Save the training and validation data to separate files\n",
    "with open('ft_train_dataset.txt', 'w') as f:\n",
    "    f.writelines(train)\n",
    "with open('ft_valid_dataset.txt', 'w') as f:\n",
    "    f.writelines(val)\n"
   ]
  },
  {
   "cell_type": "code",
   "execution_count": 40,
   "metadata": {},
   "outputs": [
    {
     "name": "stderr",
     "output_type": "stream",
     "text": [
      "Progress: 100.0% Trials:   18 Best score:  0.896200 ETA:   0h 0m 0s\n",
      "Training again with best arguments\n",
      "Read 4M words\n",
      "Number of words:  86168\n",
      "Number of labels: 2\n",
      "Progress: 100.0% words/sec/thread: 2416360 lr:  0.000000 avg.loss:  0.165621 ETA:   0h 0m 0s\n"
     ]
    }
   ],
   "source": [
    "model_hyperparameters = ft.train_supervised(input='ft_train_dataset.txt', autotuneValidationFile='ft_valid_dataset.txt', autotuneDuration=300)"
   ]
  },
  {
   "cell_type": "code",
   "execution_count": 41,
   "metadata": {},
   "outputs": [
    {
     "name": "stdout",
     "output_type": "stream",
     "text": [
      "L'accuracy est de: 0.8746 %\n"
     ]
    }
   ],
   "source": [
    "_, p, _ = model.test(\"ft_valid_dataset.txt\")\n",
    "print(\"L'accuracy est de:\", p, \"%\")"
   ]
  },
  {
   "cell_type": "code",
   "execution_count": null,
   "metadata": {},
   "outputs": [],
   "source": []
  }
 ],
 "metadata": {
  "kernelspec": {
   "display_name": "Python 3",
   "language": "python",
   "name": "python3"
  },
  "language_info": {
   "codemirror_mode": {
    "name": "ipython",
    "version": 3
   },
   "file_extension": ".py",
   "mimetype": "text/x-python",
   "name": "python",
   "nbconvert_exporter": "python",
   "pygments_lexer": "ipython3",
   "version": "3.10.10"
  },
  "orig_nbformat": 4
 },
 "nbformat": 4,
 "nbformat_minor": 2
}
