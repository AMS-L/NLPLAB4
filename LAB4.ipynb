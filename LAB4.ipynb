{
 "cells": [
  {
   "cell_type": "code",
   "execution_count": 40,
   "metadata": {},
   "outputs": [
    {
     "name": "stderr",
     "output_type": "stream",
     "text": [
      "Found cached dataset imdb (C:/Users/leand/.cache/huggingface/datasets/imdb/plain_text/1.0.0/d613c88cf8fa3bab83b4ded3713f1f74830d1100e171db75bbddb80b3345c9c0)\n"
     ]
    },
    {
     "data": {
      "text/plain": "  0%|          | 0/3 [00:00<?, ?it/s]",
      "application/vnd.jupyter.widget-view+json": {
       "version_major": 2,
       "version_minor": 0,
       "model_id": "a7d8330bc2984d4faca9e3efad0181b9"
      }
     },
     "metadata": {},
     "output_type": "display_data"
    }
   ],
   "source": [
    "from copy import deepcopy\n",
    "from functools import partial\n",
    "from typing import Callable, Dict, Generator, List, Tuple\n",
    "from sklearn.model_selection import train_test_split\n",
    "\n",
    "from datasets import load_dataset\n",
    "import matplotlib.pyplot as plt\n",
    "import numpy as np\n",
    "import pandas as pd\n",
    "from sklearn.utils import shuffle\n",
    "import torch\n",
    "from torch import nn\n",
    "from torchtext import vocab\n",
    "from torchtext.vocab import GloVe\n",
    "from torchtext.data.utils import get_tokenizer\n",
    "\n",
    "import math\n",
    "\n",
    "from tqdm.auto import tqdm\n",
    "\n",
    "dataset = load_dataset(\"imdb\")\n"
   ]
  },
  {
   "attachments": {},
   "cell_type": "markdown",
   "metadata": {},
   "source": [
    "# GloVe"
   ]
  },
  {
   "cell_type": "code",
   "execution_count": 41,
   "metadata": {},
   "outputs": [
    {
     "data": {
      "text/plain": "<torch._C.Generator at 0x1de9b345cb0>"
     },
     "execution_count": 41,
     "metadata": {},
     "output_type": "execute_result"
    }
   ],
   "source": [
    "torch.manual_seed(0)"
   ]
  },
  {
   "cell_type": "code",
   "execution_count": 42,
   "metadata": {},
   "outputs": [
    {
     "data": {
      "text/plain": "400000"
     },
     "execution_count": 42,
     "metadata": {},
     "output_type": "execute_result"
    }
   ],
   "source": [
    "glove = GloVe(name=\"6B\", dim=300)\n",
    "len(glove.stoi)"
   ]
  },
  {
   "cell_type": "code",
   "execution_count": 43,
   "metadata": {},
   "outputs": [
    {
     "data": {
      "text/plain": "(5450, 'cat', torch.Size([300]))"
     },
     "execution_count": 43,
     "metadata": {},
     "output_type": "execute_result"
    }
   ],
   "source": [
    "glove.stoi[\"cat\"], glove.itos[5450], glove.vectors[glove.stoi[\"cat\"]].shape"
   ]
  },
  {
   "cell_type": "code",
   "execution_count": 44,
   "metadata": {},
   "outputs": [
    {
     "data": {
      "text/plain": "['the', ',', '.', 'of', 'to']"
     },
     "execution_count": 44,
     "metadata": {},
     "output_type": "execute_result"
    }
   ],
   "source": [
    "glove.itos[:5]"
   ]
  },
  {
   "cell_type": "code",
   "execution_count": 45,
   "metadata": {},
   "outputs": [
    {
     "name": "stdout",
     "output_type": "stream",
     "text": [
      "cat x cats = 0.6815836429595947\n",
      "cat x dog = 0.6816746592521667\n",
      "cat x fridge = 0.09630905091762543\n"
     ]
    }
   ],
   "source": [
    "words = [\"cat\", \"cats\", \"dog\", \"fridge\"]\n",
    "for word in words[1:]:\n",
    "    similarity = torch.cosine_similarity(\n",
    "        glove.vectors[glove.stoi[words[0]]].reshape(1, -1),\n",
    "        glove.vectors[glove.stoi[word]].reshape(1, -1),\n",
    "    ).item()  # .item() is used to turn a tensor of a single value to a float\n",
    "    print(f\"{words[0]} x {word} = {similarity}\")"
   ]
  },
  {
   "cell_type": "code",
   "execution_count": 46,
   "outputs": [],
   "source": [
    "def closest_word(word : str) -> None:\n",
    "    max_similarity = 0\n",
    "    max_string_similarity = word\n",
    "    for words in glove.itos:\n",
    "        similarity =  torch.cosine_similarity(\n",
    "            glove.vectors[glove.stoi[words]].reshape(1, -1),\n",
    "            glove.vectors[glove.stoi[word]].reshape(1, -1),\n",
    "        ).item()  # .item() is used to turn a tensor of a single value to a float\n",
    "        if (similarity > max_similarity and word != words):\n",
    "                max_similarity = similarity\n",
    "                max_string_similarity = words\n",
    "                #print(f\"{max_string_similarity} x {word_cat} = {max_similarity}\")\n",
    "    print(f\"{max_string_similarity} x {word} = {max_similarity}\")"
   ],
   "metadata": {
    "collapsed": false
   }
  },
  {
   "cell_type": "code",
   "execution_count": 47,
   "metadata": {},
   "outputs": [
    {
     "name": "stdout",
     "output_type": "stream",
     "text": [
      "dog x cat = 0.6816746592521667\n"
     ]
    }
   ],
   "source": [
    "word = \"cat\"\n",
    "\n",
    "closest_word(word)"
   ]
  },
  {
   "cell_type": "code",
   "execution_count": 48,
   "metadata": {},
   "outputs": [
    {
     "name": "stderr",
     "output_type": "stream",
     "text": [
      "Found cached dataset imdb (C:/Users/leand/.cache/huggingface/datasets/imdb/plain_text/1.0.0/d613c88cf8fa3bab83b4ded3713f1f74830d1100e171db75bbddb80b3345c9c0)\n"
     ]
    },
    {
     "data": {
      "text/plain": "  0%|          | 0/3 [00:00<?, ?it/s]",
      "application/vnd.jupyter.widget-view+json": {
       "version_major": 2,
       "version_minor": 0,
       "model_id": "08389bb988ba4683b53e7364465f9e65"
      }
     },
     "metadata": {},
     "output_type": "display_data"
    },
    {
     "name": "stderr",
     "output_type": "stream",
     "text": [
      "Loading cached split indices for dataset at C:\\Users\\leand\\.cache\\huggingface\\datasets\\imdb\\plain_text\\1.0.0\\d613c88cf8fa3bab83b4ded3713f1f74830d1100e171db75bbddb80b3345c9c0\\cache-5f37fd0866e4f89f.arrow and C:\\Users\\leand\\.cache\\huggingface\\datasets\\imdb\\plain_text\\1.0.0\\d613c88cf8fa3bab83b4ded3713f1f74830d1100e171db75bbddb80b3345c9c0\\cache-dd5732a0e6ac784c.arrow\n"
     ]
    },
    {
     "data": {
      "text/plain": "((20000, 2), (5000, 2), (25000, 2))"
     },
     "execution_count": 48,
     "metadata": {},
     "output_type": "execute_result"
    }
   ],
   "source": [
    "dataset = load_dataset(\"imdb\")\n",
    "train_dataset = dataset[\"train\"].train_test_split(\n",
    "    stratify_by_column=\"label\", test_size=0.2, seed=42\n",
    ")\n",
    "test_df = dataset[\"test\"]\n",
    "train_df = train_dataset[\"train\"]\n",
    "valid_df = train_dataset[\"test\"]\n",
    "train_df.shape, valid_df.shape, test_df.shape"
   ]
  },
  {
   "cell_type": "code",
   "execution_count": 49,
   "metadata": {},
   "outputs": [],
   "source": [
    "tokenizer = get_tokenizer(\"basic_english\", language=\"en\")\n",
    "\n",
    "def vectorize_text(\n",
    "    text: str, vocabulary: vocab.Vocab, tokenizer: Callable[[str], List[str]]\n",
    ") -> torch.Tensor:\n",
    "    \"\"\"\n",
    "    Turn a string into the average of the vectors of its tokens.\n",
    "    Args:\n",
    "        text: the input text.\n",
    "        vocabulary: a pre-trained Vocab object.\n",
    "        tokenizer: a tokenizer taking a text as input and returning a list of tokens.\n",
    "    Returns:\n",
    "        The average tensor over the tokens of the whole text.\n",
    "    \"\"\"\n",
    "    tokens = tokenizer(text)\n",
    "    vectors = vocabulary.get_vecs_by_tokens(tokens)\n",
    "    return torch.mean(vectors, dim=0)"
   ]
  },
  {
   "cell_type": "code",
   "execution_count": 50,
   "metadata": {},
   "outputs": [],
   "source": [
    "text_pipeline = partial(vectorize_text, vocabulary=glove, tokenizer=tokenizer)\n",
    "assert text_pipeline(\"some text.\").shape == torch.Size([300])"
   ]
  },
  {
   "cell_type": "code",
   "execution_count": 51,
   "metadata": {},
   "outputs": [
    {
     "data": {
      "text/plain": "torch.Size([300])"
     },
     "execution_count": 51,
     "metadata": {},
     "output_type": "execute_result"
    }
   ],
   "source": [
    "text_pipeline(\"some text.\").shape"
   ]
  },
  {
   "cell_type": "code",
   "execution_count": 52,
   "metadata": {},
   "outputs": [
    {
     "data": {
      "text/plain": "  0%|          | 0/20000 [00:00<?, ?it/s]",
      "application/vnd.jupyter.widget-view+json": {
       "version_major": 2,
       "version_minor": 0,
       "model_id": "c22b49f53f5a41f2b6962e69dbcfa1ba"
      }
     },
     "metadata": {},
     "output_type": "display_data"
    },
    {
     "data": {
      "text/plain": "  0%|          | 0/5000 [00:00<?, ?it/s]",
      "application/vnd.jupyter.widget-view+json": {
       "version_major": 2,
       "version_minor": 0,
       "model_id": "df670553248e49cf8f15d8b2ab802445"
      }
     },
     "metadata": {},
     "output_type": "display_data"
    },
    {
     "data": {
      "text/plain": "  0%|          | 0/25000 [00:00<?, ?it/s]",
      "application/vnd.jupyter.widget-view+json": {
       "version_major": 2,
       "version_minor": 0,
       "model_id": "6be1a07fc0c448519ed28a6542664816"
      }
     },
     "metadata": {},
     "output_type": "display_data"
    }
   ],
   "source": [
    "X_train = [text_pipeline(text) for text in tqdm(train_df[\"text\"])]\n",
    "y_train = train_df[\"label\"]\n",
    "X_valid = [text_pipeline(text) for text in tqdm(valid_df[\"text\"])]\n",
    "y_valid = valid_df[\"label\"]\n",
    "X_test = [text_pipeline(text) for text in tqdm(test_df[\"text\"])]\n",
    "y_test = test_df[\"label\"]"
   ]
  },
  {
   "cell_type": "code",
   "execution_count": 53,
   "metadata": {},
   "outputs": [],
   "source": [
    "def data_generator(\n",
    "    X: List[torch.tensor], y: List[int], batch_size: int = 32\n",
    ") -> Generator[Tuple[torch.Tensor, torch.Tensor], None, None]:\n",
    "    \"\"\"\n",
    "    Yield batches from given input data and labels.\n",
    "    Args:\n",
    "        X: a list of tensor (input features).\n",
    "        y: the corresponding labels.\n",
    "        batch_size: the size of every batch [32].\n",
    "    Returns:\n",
    "        A tuple of tensors (features, labels).\n",
    "    \"\"\"\n",
    "    X, y = shuffle(X, y)\n",
    "    num_batches = (len(X) - 1) // batch_size + 1\n",
    "\n",
    "    for i in range(num_batches) :\n",
    "        starting_index = i * batch_size\n",
    "        ending_index = min((i + 1) * batch_size, len(X))\n",
    "        batch_X = X[starting_index:ending_index]\n",
    "        batch_Y = y[starting_index:ending_index]\n",
    "        yield torch.stack(batch_X), torch.tensor(batch_Y)\n"
   ]
  },
  {
   "cell_type": "code",
   "execution_count": 54,
   "metadata": {},
   "outputs": [],
   "source": [
    "train_gen = lambda: data_generator(X_train, y_train, batch_size=32)\n",
    "for X, y in train_gen():\n",
    "    assert X.shape == torch.Size([32, 300])\n",
    "    assert y.shape == torch.Size([32])\n",
    "    break"
   ]
  },
  {
   "cell_type": "code",
   "execution_count": 55,
   "metadata": {},
   "outputs": [],
   "source": [
    "class SimpleClassifer(nn.Module):\n",
    "    \"\"\"\n",
    "    A simple linear classifier.\n",
    "    \"\"\"\n",
    "\n",
    "    def __init__(self, embedding_size: int, nb_classes: int) -> None:\n",
    "        \"\"\"\n",
    "        Args:\n",
    "            embedding_size: the dimension of the input embeddings.\n",
    "        nb_classes: the output dimension.\n",
    "        \"\"\"\n",
    "        super().__init__()\n",
    "        output_layer = nn.Sigmoid() if nb_classes == 1 else nn.Softmax()\n",
    "        self.classifier = torch.nn.Sequential(\n",
    "            nn.Linear(embedding_size, nb_classes),\n",
    "            output_layer,\n",
    "        )\n",
    "\n",
    "    def forward(self, x: torch.Tensor) -> torch.Tensor:\n",
    "        \"\"\"\n",
    "        Args:\n",
    "            x: an input tensor\n",
    "        Returns:\n",
    "            Logits.\n",
    "        \"\"\"\n",
    "        return self.classifier(x)\n",
    "        "
   ]
  },
  {
   "cell_type": "code",
   "execution_count": 56,
   "metadata": {},
   "outputs": [
    {
     "data": {
      "text/plain": "'cpu'"
     },
     "execution_count": 56,
     "metadata": {},
     "output_type": "execute_result"
    }
   ],
   "source": [
    "device = \"cuda:0\" if torch.cuda.is_available() else \"cpu\"\n",
    "device"
   ]
  },
  {
   "cell_type": "code",
   "execution_count": 57,
   "metadata": {},
   "outputs": [],
   "source": [
    "train_gen = lambda: data_generator(X_train, y_train)\n",
    "valid_gen = lambda: data_generator(X_valid, y_valid)\n",
    "test_gen = lambda: data_generator(X_test, y_test)"
   ]
  },
  {
   "cell_type": "code",
   "execution_count": 58,
   "metadata": {},
   "outputs": [],
   "source": [
    "model = SimpleClassifer(300, 1).to(device)\n",
    "criterion = nn.BCEWithLogitsLoss()\n",
    "# You can use another optimizer if you want.\n",
    "optimizer = torch.optim.Adam(model.parameters())"
   ]
  },
  {
   "cell_type": "code",
   "execution_count": 59,
   "metadata": {},
   "outputs": [
    {
     "data": {
      "text/plain": "  0%|          | 0/50 [00:00<?, ?it/s]",
      "application/vnd.jupyter.widget-view+json": {
       "version_major": 2,
       "version_minor": 0,
       "model_id": "841614341ea54f3091f681f59cfb6645"
      }
     },
     "metadata": {},
     "output_type": "display_data"
    },
    {
     "name": "stdout",
     "output_type": "stream",
     "text": [
      "0.018939454710483552\n",
      "[0.021631055256724357, 0.021205577996373178, 0.020859843373298645, 0.02062277730703354, 0.02044290569126606, 0.02029460217654705, 0.020160146716237066, 0.02004516155719757, 0.01993906832933426, 0.01984562477171421, 0.01975999783873558, 0.01968287192285061, 0.01961188557446003, 0.019549551439285277, 0.019493003463745117, 0.019442262056469917, 0.019397375747561455, 0.01935203246176243, 0.019311928334832192, 0.01927521131336689, 0.019240899878740312, 0.019208967417478563, 0.01917510914802551, 0.01914895717203617, 0.019120442527532578, 0.019097436946630478, 0.019074421909451484, 0.019049943995475768, 0.019029462738335133, 0.019009073215723038, 0.018988674852252006, 0.0189690727353096, 0.018951398192346095, 0.01893559999167919, 0.018919165381789206, 0.018903254440426825, 0.01888887039422989, 0.018872761246562005, 0.0188601156309247, 0.018845784604549408, 0.018833718673884867, 0.018821373867988586, 0.018809604074060918, 0.018798735776543618, 0.018787166699767113, 0.018775676815211775, 0.018767324058711527, 0.018754821430146694, 0.01874543379098177, 0.01873771324902773]\n",
      "[0.021540324199199677, 0.02112464735507965, 0.020846397364139558, 0.020638144016265868, 0.020510225534439087, 0.020360742008686067, 0.020238542246818543, 0.02013023512363434, 0.020005345964431764, 0.019939114248752592, 0.019865726578235626, 0.019795219552516938, 0.019725852251052858, 0.019683642852306366, 0.01961217986345291, 0.0195907998919487, 0.019553563582897185, 0.019501468229293824, 0.01946575986146927, 0.019444309139251707, 0.019387090319395065, 0.019379676830768584, 0.01933642246723175, 0.019309426391124724, 0.019279873079061507, 0.01925807260274887, 0.019258697640895845, 0.019223298597335816, 0.019195669829845427, 0.019198348706960678, 0.019136068212985993, 0.019159696066379548, 0.01913302272558212, 0.019106260234117507, 0.01909593404531479, 0.019078175628185274, 0.019076940810680388, 0.019064813244342803, 0.01905222225189209, 0.019047640109062194, 0.019034127485752107, 0.01902749330997467, 0.018987785255908968, 0.01896008040904999, 0.018963688683509828, 0.0189586385011673, 0.018939576506614684, 0.018951357197761535, 0.018939454710483552, 0.01895118775367737]\n"
     ]
    }
   ],
   "source": [
    "nb_epochs = 50\n",
    "train_losses, valid_losses = [], []\n",
    "\n",
    "best_model = model\n",
    "best_validation_loss = np.Inf\n",
    "\n",
    "for epoch in tqdm(range(nb_epochs)):\n",
    "\n",
    "    # training\n",
    "    model.train()\n",
    "    train_loss = 0.0\n",
    "    # training loop\n",
    "    for batch_X, batch_Y in train_gen():\n",
    "        optimizer.zero_grad()\n",
    "        logits = model(batch_X.to(device)).squeeze()\n",
    "        loss = criterion(logits, batch_Y.float())#to device\n",
    "        train_loss += loss.item()\n",
    "        \n",
    "        loss.backward()\n",
    "        optimizer.step()\n",
    "      \n",
    "    train_losses.append(train_loss / len(X_train))\n",
    "\n",
    "\n",
    "    \n",
    "    # validation\n",
    "    model.eval()\n",
    "    valid_loss = 0.0\n",
    "    # validation loop\n",
    "    with torch.no_grad():\n",
    "        for batch_X, batch_Y in valid_gen():\n",
    "            logits = model(batch_X.to(device)).squeeze()\n",
    "            loss = criterion(logits, batch_Y.float())\n",
    "            valid_loss += loss.item()\n",
    "    valid_losses.append(valid_loss / len(X_valid))\n",
    "\n",
    "    if (valid_losses[-1] < best_validation_loss) :\n",
    "        best_validation_loss = valid_losses[-1]\n",
    "        best_model = deepcopy(model)\n",
    "\n",
    "print(best_validation_loss)\n",
    "print(train_losses)\n",
    "print(valid_losses)"
   ]
  },
  {
   "cell_type": "code",
   "execution_count": 60,
   "metadata": {},
   "outputs": [
    {
     "data": {
      "text/plain": "<matplotlib.legend.Legend at 0x1dea7c07220>"
     },
     "execution_count": 60,
     "metadata": {},
     "output_type": "execute_result"
    },
    {
     "data": {
      "text/plain": "<Figure size 640x480 with 1 Axes>",
      "image/png": "[encoded data removed]"
     },
     "metadata": {},
     "output_type": "display_data"
    }
   ],
   "source": [
    "plt.plot(train_losses, label=\"train loss\")\n",
    "plt.plot(valid_losses, label=\"valid loss\")\n",
    "plt.legend()"
   ]
  },
  {
   "cell_type": "code",
   "execution_count": 61,
   "metadata": {},
   "outputs": [
    {
     "name": "stdout",
     "output_type": "stream",
     "text": [
      "0.80445 0.8016 0.79624\n"
     ]
    }
   ],
   "source": [
    "def accuracy_computing(generator,X):\n",
    "    best_model.eval()\n",
    "    accuracy = 0\n",
    "    with torch.no_grad():\n",
    "        for batch_X, batch_Y in generator():\n",
    "            logits = best_model(batch_X).squeeze()\n",
    "            predictions = (logits > 0.5)\n",
    "            accuracy += (predictions.int() == batch_Y).int().sum().item()\n",
    "    accuracy /= len(X)\n",
    "    return accuracy\n",
    "        \n",
    "\n",
    "train_accuracy = accuracy_computing(train_gen, X_train)\n",
    "valid_accuracy = accuracy_computing(valid_gen, X_valid)\n",
    "test_accuracy = accuracy_computing(test_gen, X_test)\n",
    "\n",
    "print(train_accuracy, valid_accuracy, test_accuracy)"
   ]
  },
  {
   "cell_type": "code",
   "execution_count": 62,
   "outputs": [],
   "source": [
    "def predict(\n",
    "    text: str,\n",
    "    text_pipeline: Callable[[str], torch.Tensor],\n",
    "    model: nn.Module,\n",
    "    device: str,\n",
    ") -> Tuple[int, float]:\n",
    "    \"\"\"\n",
    "    Return the predicted class and score for a given input.\n",
    "    Args:\n",
    "        text: a given review.\n",
    "        text_pipeline: a function taking a text as input and returning a tensor (model's input).\n",
    "        model: a pre-trained model.\n",
    "        device: the device on which the computation occurs.\n",
    "    Returns:\n",
    "        A tuple (label, score).\n",
    "    \"\"\"\n",
    "    score = model.forward(text_pipeline(text)).to(device)[0].item()\n",
    "    return int(score > 0.5), score"
   ],
   "metadata": {
    "collapsed": false
   }
  },
  {
   "cell_type": "code",
   "execution_count": 63,
   "outputs": [
    {
     "name": "stdout",
     "output_type": "stream",
     "text": [
      "After reading tons of good reviews about this movie I decided to take it for a spin (I bought it on DVD, hence the \"spin\" pun...I'm a dork). The beginning was everything I hoped for, a perfect set-up (along with some quotes that I've heard on Various Wu-Tang albums) to what should have been a good movie. But the plot I heard was so great, was so predictable. Every time I saw a character (except for the Lizard) I guessed which Venom he was. Plus, the only cool character gets killed off in the middle of the movie. Ok, so the plot wasn't very good but at least there was some good kung-fu right? Wrong. The fights were very short and few and far between. Granted the different styles were all pretty cool but I wish the fights were longer. I kept hoping to see the Lizard run and do some crazy ish on the walls but it never happened. I was hoping to see the Centipede do some tight speedy ish but it never happened. I was hoping to see the Scorpion in the movie for more than 7 total minutes but it never happened. In short, not much happens. The fighting is all pretty routine. Don't be fooled just becuase this movie has a plot, it does not mean it's a good one.\n",
      "Résultat obtenu : 0\n",
      "Résultat escompté : 1\n",
      "Score obtenu : 0.02837330847978592\n",
      "\n",
      "\n",
      "\n",
      "\n",
      "\n",
      "\n",
      "I saw this film last night following a lot of good reviews from many sources. I would like to point out that if your not ready to try and work out continuously who is who and what it all means you will hate this film.<br /><br />I am still struggling to understand the roles of the actors in this film, the film jumps from different stories and does not allow you to really empathise with any of the roles.<br /><br />For the political buff's and those interested in corruption in other world governments out there this film is probably quite good, but to the average movie watcher this film is awkward,very boring in places and you will leave the cinema confused and annoyed that you paid the entrance fee.<br /><br />see it if your ready to focus 100% on every minute detail or politics interest you. don't see it, if you actually like watching films.\n",
      "Résultat obtenu : 1\n",
      "Résultat escompté : 0\n",
      "Score obtenu : 0.6897916197776794\n"
     ]
    }
   ],
   "source": [
    "def error_searching(X_train: list[str], y_train: list[int]) -> None:\n",
    "    best_model.eval()\n",
    "    found = 0\n",
    "    i = 0\n",
    "    while i < len(X_train) and found < 2:\n",
    "        result, score = predict(X_train[i], text_pipeline, best_model, device)\n",
    "        if result != y_train[i]:\n",
    "            print(X_train[i])\n",
    "            print(\"Résultat obtenu :\", result)\n",
    "            print(\"Résultat escompté :\", y_train[i])\n",
    "            print(\"Score obtenu :\", score)\n",
    "            if found == 0:\n",
    "                print(\"\\n\\n\\n\\n\\n\")\n",
    "            found += 1\n",
    "        i += 1\n",
    "\n",
    "error_searching(train_df[\"text\"], train_df[\"label\"])"
   ],
   "metadata": {
    "collapsed": false
   }
  },
  {
   "cell_type": "code",
   "execution_count": 64,
   "outputs": [
    {
     "data": {
      "text/plain": "int"
     },
     "execution_count": 64,
     "metadata": {},
     "output_type": "execute_result"
    }
   ],
   "source": [
    "type(train_df[\"label\"][0])"
   ],
   "metadata": {
    "collapsed": false
   }
  },
  {
   "cell_type": "markdown",
   "source": [
    "Le premier texte correspond à un avis d'une personne très déçue du film qu'elle a vu. Elle a donc globalement apprécié, mais beaucoup moins que ce qu'elle n'aurait voulu : son texte étant majoritairement négatif, notre classifieur l'a donc noté comme étant extrêmement négatif avec un score de 0.02.\n",
    "\n",
    "Le second texte, quant à lui, indique que le film était intéressant, mais beaucoup trop complexe et difficile à suivre pour être appréciable en tant que visionnage tranquille : malgré tous les points positif qu'il cite, l'auteur indique clairement qu'il n'a presque rien compris à l'histoire. D'où son avis négatif, et notre estimation positive.\n"
   ],
   "metadata": {
    "collapsed": false
   }
  },
  {
   "cell_type": "code",
   "execution_count": 65,
   "outputs": [
    {
     "data": {
      "text/plain": "(0, 0.21899402141571045)"
     },
     "execution_count": 65,
     "metadata": {},
     "output_type": "execute_result"
    }
   ],
   "source": [
    "text = \"In my long years as a movie reviewers, I have seen good and bad movies. But nothing as controversially in the middle.\"\n",
    "predict(text, text_pipeline, model, device)"
   ],
   "metadata": {
    "collapsed": false
   }
  },
  {
   "cell_type": "markdown",
   "source": [],
   "metadata": {
    "collapsed": false
   }
  },
  {
   "cell_type": "markdown",
   "metadata": {},
   "source": [
    "# II- FastText"
   ]
  },
  {
   "cell_type": "code",
   "execution_count": 66,
   "metadata": {},
   "outputs": [
    {
     "ename": "ModuleNotFoundError",
     "evalue": "No module named 'fasttext'",
     "output_type": "error",
     "traceback": [
      "\u001B[1;31m---------------------------------------------------------------------------\u001B[0m",
      "\u001B[1;31mModuleNotFoundError\u001B[0m                       Traceback (most recent call last)",
      "Cell \u001B[1;32mIn[66], line 1\u001B[0m\n\u001B[1;32m----> 1\u001B[0m \u001B[38;5;28;01mimport\u001B[39;00m \u001B[38;5;21;01mfasttext\u001B[39;00m \u001B[38;5;28;01mas\u001B[39;00m \u001B[38;5;21;01mft\u001B[39;00m\n",
      "\u001B[1;31mModuleNotFoundError\u001B[0m: No module named 'fasttext'"
     ]
    }
   ],
   "source": [
    "import fasttext as ft"
   ]
  },
  {
   "cell_type": "markdown",
   "metadata": {},
   "source": [
    "1- Turn the dataset into a dataset compatible with Fastext"
   ]
  },
  {
   "cell_type": "code",
   "execution_count": null,
   "metadata": {},
   "outputs": [],
   "source": [
    "import string\n",
    "\n",
    "def preprocess(data : dict) -> dict:\n",
    "    '''Takes a document from a dataset, lowers the letters and\n",
    "    replace all punctuations by spaces'''\n",
    "    text = data[\"text\"]\n",
    "    for character in string.punctuation:\n",
    "        if character != \"-\":\n",
    "          text = text.replace(character, ' ')\n",
    "    data[\"text\"] = text.lower()\n",
    "    return data"
   ]
  },
  {
   "cell_type": "code",
   "execution_count": null,
   "metadata": {},
   "outputs": [],
   "source": [
    "updated_dataset = dataset.map(preprocess)\n"
   ]
  },
  {
   "cell_type": "code",
   "execution_count": null,
   "metadata": {},
   "outputs": [],
   "source": [
    "def to_ft_dataset(dataset, file):\n",
    "    with open(file, 'w') as f:\n",
    "        for d in dataset:\n",
    "            label = '__label__' + str(d['label'])\n",
    "            text = d['text']\n",
    "            f.write(label + ' ' + text + '\\n')\n",
    "    return file"
   ]
  },
  {
   "cell_type": "markdown",
   "metadata": {},
   "source": [
    "2- Train a FastText classifier with default parameters"
   ]
  },
  {
   "cell_type": "code",
   "execution_count": null,
   "metadata": {},
   "outputs": [],
   "source": [
    "train_ft_file = to_ft_dataset(updated_dataset[\"train\"], \"ft_train_dataset.txt\")\n",
    "test_ft_file = to_ft_dataset(updated_dataset[\"test\"], \"ft_test_dataset.txt\")"
   ]
  },
  {
   "cell_type": "code",
   "execution_count": null,
   "metadata": {},
   "outputs": [],
   "source": [
    "import random\n",
    "\n",
    "with open(\"ft_train_dataset.txt\", 'r') as f:\n",
    "    train_lines = f.readlines()\n",
    "\n",
    "# Shuffle the training data\n",
    "shuffle(train_lines)\n",
    "with open(\"ft_train_dataset.txt\", 'w') as f:\n",
    "    f.writelines(train_lines)"
   ]
  },
  {
   "cell_type": "code",
   "execution_count": null,
   "metadata": {},
   "outputs": [],
   "source": [
    "model = ft.train_supervised(input=\"ft_train_dataset.txt\")"
   ]
  },
  {
   "cell_type": "code",
   "execution_count": null,
   "metadata": {},
   "outputs": [],
   "source": [
    "_, p, _ = model.test(test_ft_file)\n",
    "print(\"L'accuracy est de:\", p, \"%\")"
   ]
  },
  {
   "cell_type": "markdown",
   "metadata": {},
   "source": [
    "3- Use the hyperparameters search functionality of FastText"
   ]
  },
  {
   "cell_type": "code",
   "execution_count": null,
   "metadata": {},
   "outputs": [],
   "source": [
    "\n",
    "with open(\"ft_train_dataset.txt\", 'r') as f:\n",
    "    data = []\n",
    "    labels = []\n",
    "    for line in f:\n",
    "        label, text = line.split(maxsplit=1)\n",
    "        data.append(text)\n",
    "        labels.append(label)\n",
    "\n",
    "X_train, X_valid, Y_train, Y_valid = train_test_split(data, labels, test_size=0.2, stratify=labels, random_state=42)\n",
    "\n",
    "# Combine the data and labels into the format expected by FastText\n",
    "train = [f\"{label} {text.strip()}\\n\" for label, text in zip(Y_train, X_train)]\n",
    "val = [f\"{label} {text.strip()}\\n\" for label, text in zip(Y_valid, X_valid)]\n",
    "\n",
    "# Save the training and validation data to separate files\n",
    "with open('ft_train_dataset.txt', 'w') as f:\n",
    "    f.writelines(train)\n",
    "with open('ft_valid_dataset.txt', 'w') as f:\n",
    "    f.writelines(val)\n"
   ]
  },
  {
   "cell_type": "code",
   "execution_count": null,
   "metadata": {},
   "outputs": [],
   "source": [
    "model_hyperparameters = ft.train_supervised(input='ft_train_dataset.txt', autotuneValidationFile='ft_valid_dataset.txt', autotuneDuration=300)"
   ]
  },
  {
   "cell_type": "code",
   "execution_count": null,
   "metadata": {},
   "outputs": [],
   "source": [
    "_, p, _ = model.test(\"ft_valid_dataset.txt\")\n",
    "print(\"L'accuracy est de:\", p, \"%\")"
   ]
  },
  {
   "cell_type": "code",
   "execution_count": null,
   "metadata": {},
   "outputs": [],
   "source": []
  }
 ],
 "metadata": {
  "kernelspec": {
   "display_name": "Python 3",
   "language": "python",
   "name": "python3"
  },
  "language_info": {
   "codemirror_mode": {
    "name": "ipython",
    "version": 3
   },
   "file_extension": ".py",
   "mimetype": "text/x-python",
   "name": "python",
   "nbconvert_exporter": "python",
   "pygments_lexer": "ipython3",
   "version": "3.10.10"
  },
  "orig_nbformat": 4
 },
 "nbformat": 4,
 "nbformat_minor": 2
}
