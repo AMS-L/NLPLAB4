{
 "cells": [
  {
   "cell_type": "code",
   "execution_count": 47,
   "metadata": {},
   "outputs": [
    {
     "name": "stderr",
     "output_type": "stream",
     "text": [
      "Found cached dataset imdb (/home/amine/.cache/huggingface/datasets/imdb/plain_text/1.0.0/d613c88cf8fa3bab83b4ded3713f1f74830d1100e171db75bbddb80b3345c9c0)\n",
      "100%|██████████| 3/3 [00:00<00:00, 770.21it/s]\n"
     ]
    }
   ],
   "source": [
    "from copy import deepcopy\n",
    "from functools import partial\n",
    "from typing import Callable, Dict, Generator, List, Tuple\n",
    "\n",
    "from datasets import load_dataset\n",
    "import matplotlib.pyplot as plt\n",
    "import numpy as np\n",
    "import pandas as pd\n",
    "from sklearn.utils import shuffle\n",
    "import torch\n",
    "from torch import nn\n",
    "from torchtext import vocab\n",
    "from torchtext.vocab import GloVe\n",
    "from torchtext.data.utils import get_tokenizer\n",
    "\n",
    "from tqdm.auto import tqdm\n",
    "\n",
    "dataset = load_dataset(\"imdb\")\n"
   ]
  },
  {
   "attachments": {},
   "cell_type": "markdown",
   "metadata": {},
   "source": [
    "# GloVe"
   ]
  },
  {
   "cell_type": "code",
   "execution_count": 3,
   "metadata": {},
   "outputs": [
    {
     "data": {
      "text/plain": [
       "<torch._C.Generator at 0x7f6dd619d130>"
      ]
     },
     "execution_count": 3,
     "metadata": {},
     "output_type": "execute_result"
    }
   ],
   "source": [
    "torch.manual_seed(0)"
   ]
  },
  {
   "cell_type": "code",
   "execution_count": 4,
   "metadata": {},
   "outputs": [
    {
     "data": {
      "text/plain": [
       "400000"
      ]
     },
     "execution_count": 4,
     "metadata": {},
     "output_type": "execute_result"
    }
   ],
   "source": [
    "glove = GloVe(name=\"6B\", dim=300)\n",
    "len(glove.stoi)"
   ]
  },
  {
   "cell_type": "code",
   "execution_count": 5,
   "metadata": {},
   "outputs": [
    {
     "data": {
      "text/plain": [
       "(5450, 'cat', torch.Size([300]))"
      ]
     },
     "execution_count": 5,
     "metadata": {},
     "output_type": "execute_result"
    }
   ],
   "source": [
    "glove.stoi[\"cat\"], glove.itos[5450], glove.vectors[glove.stoi[\"cat\"]].shape"
   ]
  },
  {
   "cell_type": "code",
   "execution_count": 6,
   "metadata": {},
   "outputs": [
    {
     "data": {
      "text/plain": [
       "['the', ',', '.', 'of', 'to']"
      ]
     },
     "execution_count": 6,
     "metadata": {},
     "output_type": "execute_result"
    }
   ],
   "source": [
    "glove.itos[:5]"
   ]
  },
  {
   "cell_type": "code",
   "execution_count": 7,
   "metadata": {},
   "outputs": [
    {
     "name": "stdout",
     "output_type": "stream",
     "text": [
      "cat x cats = 0.6815836429595947\n",
      "cat x dog = 0.6816746592521667\n",
      "cat x fridge = 0.09630905091762543\n"
     ]
    }
   ],
   "source": [
    "words = [\"cat\", \"cats\", \"dog\", \"fridge\"]\n",
    "for word in words[1:]:\n",
    "    similarity = torch.cosine_similarity(\n",
    "        glove.vectors[glove.stoi[words[0]]].reshape(1, -1),\n",
    "        glove.vectors[glove.stoi[word]].reshape(1, -1),\n",
    "    ).item()  # .item() is used to turn a tensor of a single value to a float\n",
    "    print(f\"{words[0]} x {word} = {similarity}\")\n"
   ]
  },
  {
   "cell_type": "code",
   "execution_count": 8,
   "metadata": {},
   "outputs": [],
   "source": [
    "word_cat = \"cat\"\n",
    "\n",
    "def closest_word() :\n",
    "    max_similarity = 0\n",
    "    max_string_similarity = word_cat\n",
    "    for word in glove.itos:\n",
    "        similarity =  torch.cosine_similarity(\n",
    "            glove.vectors[glove.stoi[word]].reshape(1, -1),\n",
    "            glove.vectors[glove.stoi[word_cat]].reshape(1, -1),\n",
    "        ).item()  # .item() is used to turn a tensor of a single value to a float\n",
    "        if (similarity > max_similarity and word != word_cat):\n",
    "                max_similarity = similarity\n",
    "                max_string_similarity = word\n",
    "                #print(f\"{max_string_similarity} x {word_cat} = {max_similarity}\")\n",
    "    print(f\"{max_string_similarity} x {word_cat} = {max_similarity}\")\n",
    "    "
   ]
  },
  {
   "cell_type": "code",
   "execution_count": 9,
   "metadata": {},
   "outputs": [
    {
     "name": "stdout",
     "output_type": "stream",
     "text": [
      "dog x cat = 0.6816746592521667\n"
     ]
    }
   ],
   "source": [
    "closest_word()"
   ]
  },
  {
   "cell_type": "code",
   "execution_count": 10,
   "metadata": {},
   "outputs": [
    {
     "name": "stderr",
     "output_type": "stream",
     "text": [
      "Found cached dataset imdb (/home/amine/.cache/huggingface/datasets/imdb/plain_text/1.0.0/d613c88cf8fa3bab83b4ded3713f1f74830d1100e171db75bbddb80b3345c9c0)\n",
      "100%|██████████| 3/3 [00:00<00:00, 80.32it/s]\n",
      "Loading cached split indices for dataset at /home/amine/.cache/huggingface/datasets/imdb/plain_text/1.0.0/d613c88cf8fa3bab83b4ded3713f1f74830d1100e171db75bbddb80b3345c9c0/cache-5f37fd0866e4f89f.arrow and /home/amine/.cache/huggingface/datasets/imdb/plain_text/1.0.0/d613c88cf8fa3bab83b4ded3713f1f74830d1100e171db75bbddb80b3345c9c0/cache-dd5732a0e6ac784c.arrow\n"
     ]
    },
    {
     "data": {
      "text/plain": [
       "((20000, 2), (5000, 2), (25000, 2))"
      ]
     },
     "execution_count": 10,
     "metadata": {},
     "output_type": "execute_result"
    }
   ],
   "source": [
    "dataset = load_dataset(\"imdb\")\n",
    "train_dataset = dataset[\"train\"].train_test_split(\n",
    "    stratify_by_column=\"label\", test_size=0.2, seed=42\n",
    ")\n",
    "test_df = dataset[\"test\"]\n",
    "train_df = train_dataset[\"train\"]\n",
    "valid_df = train_dataset[\"test\"]\n",
    "train_df.shape, valid_df.shape, test_df.shape"
   ]
  },
  {
   "cell_type": "code",
   "execution_count": 11,
   "metadata": {},
   "outputs": [],
   "source": [
    "tokenizer = get_tokenizer(\"basic_english\", language=\"en\")\n",
    "\n",
    "def vectorize_text(\n",
    "    text: str, vocabulary: vocab.Vocab, tokenizer: Callable[[str], List[str]]\n",
    ") -> torch.Tensor:\n",
    "    \"\"\"\n",
    "    Turn a string into the average of the vectors of its tokens.\n",
    "    Args:\n",
    "        text: the input text.\n",
    "        vocabulary: a pre-trained Vocab object.\n",
    "        tokenizer: a tokenizer taking a text as input and returning a list of tokens.\n",
    "    Returns:\n",
    "        The average tensor over the tokens of the whole text.\n",
    "    \"\"\"\n",
    "    tokens = tokenizer(text)\n",
    "    vectors = vocabulary.get_vecs_by_tokens(tokens)\n",
    "    return torch.mean(vectors, dim=0)\n",
    "    # Your code"
   ]
  },
  {
   "cell_type": "code",
   "execution_count": 12,
   "metadata": {},
   "outputs": [],
   "source": [
    "text_pipeline = partial(vectorize_text, vocabulary=glove, tokenizer=tokenizer)\n",
    "assert text_pipeline(\"some text.\").shape == torch.Size([300])"
   ]
  },
  {
   "cell_type": "code",
   "execution_count": 13,
   "metadata": {},
   "outputs": [
    {
     "data": {
      "text/plain": [
       "torch.Size([300])"
      ]
     },
     "execution_count": 13,
     "metadata": {},
     "output_type": "execute_result"
    }
   ],
   "source": [
    "text_pipeline(\"some text.\").shape"
   ]
  },
  {
   "cell_type": "code",
   "execution_count": 14,
   "metadata": {},
   "outputs": [
    {
     "name": "stderr",
     "output_type": "stream",
     "text": [
      "100%|██████████| 20000/20000 [00:15<00:00, 1312.15it/s]\n",
      "100%|██████████| 5000/5000 [00:04<00:00, 1227.91it/s]\n",
      "100%|██████████| 25000/25000 [00:18<00:00, 1329.27it/s]\n"
     ]
    }
   ],
   "source": [
    "X_train = [text_pipeline(text) for text in tqdm(train_df[\"text\"])]\n",
    "y_train = train_df[\"label\"]\n",
    "X_valid = [text_pipeline(text) for text in tqdm(valid_df[\"text\"])]\n",
    "y_valid = valid_df[\"label\"]\n",
    "X_test = [text_pipeline(text) for text in tqdm(test_df[\"text\"])]\n",
    "y_test = test_df[\"label\"]"
   ]
  },
  {
   "cell_type": "code",
   "execution_count": 36,
   "metadata": {},
   "outputs": [],
   "source": [
    "def data_generator(\n",
    "    X: List[torch.tensor], y: List[int], batch_size: int = 32\n",
    ") -> Generator[Tuple[torch.Tensor, torch.Tensor], None, None]:\n",
    "    \"\"\"\n",
    "    Yield batches from given input data and labels.\n",
    "    Args:\n",
    "        X: a list of tensor (input features).\n",
    "        y: the corresponding labels.\n",
    "        batch_size: the size of every batch [32].\n",
    "    Returns:\n",
    "        A tuple of tensors (features, labels).\n",
    "    \"\"\"\n",
    "    X, y = shuffle(X, y)\n",
    "    num_batches = (len(X) - 1) // batch_size + 1\n",
    "\n",
    "    for i in range(num_batches) :\n",
    "        starting_index = i * batch_size\n",
    "        ending_index = min((i + 1) * batch_size, len(X))\n",
    "        batch_X = X[starting_index:ending_index]\n",
    "        batch_Y = y[starting_index:ending_index]\n",
    "        yield torch.stack(batch_X), torch.tensor(batch_Y)\n"
   ]
  },
  {
   "cell_type": "code",
   "execution_count": 37,
   "metadata": {},
   "outputs": [],
   "source": [
    "train_gen = lambda: data_generator(X_train, y_train, batch_size=32)\n",
    "for X, y in train_gen():\n",
    "    #print(X.shape)\n",
    "    assert X.shape == torch.Size([32, 300])\n",
    "    assert y.shape == torch.Size([32])\n",
    "    break"
   ]
  },
  {
   "cell_type": "code",
   "execution_count": 38,
   "metadata": {},
   "outputs": [],
   "source": [
    "class SimpleClassifer(nn.Module):\n",
    "    \"\"\"\n",
    "    A simple linear classifier.\n",
    "    \"\"\"\n",
    "\n",
    "    def __init__(self, embedding_size: int, nb_classes: int) -> None:\n",
    "        \"\"\"\n",
    "        Args:\n",
    "            embedding_size: the dimension of the input embeddings.\n",
    "        nb_classes: the output dimension.\n",
    "        \"\"\"\n",
    "        super().__init__()\n",
    "        output_layer = nn.Sigmoid() if nb_classes == 1 else nn.Softmax()\n",
    "        self.classifier = torch.nn.Sequential(\n",
    "            nn.Linear(embedding_size, nb_classes),\n",
    "            output_layer,\n",
    "        )\n",
    "\n",
    "    def forward(self, x: torch.Tensor) -> torch.Tensor:\n",
    "        \"\"\"\n",
    "        Args:\n",
    "            x: an input tensor\n",
    "        Returns:\n",
    "            Logits.\n",
    "        \"\"\"\n",
    "        return self.classifier(x)\n",
    "        "
   ]
  },
  {
   "cell_type": "code",
   "execution_count": 18,
   "metadata": {},
   "outputs": [
    {
     "data": {
      "text/plain": [
       "'cpu'"
      ]
     },
     "execution_count": 18,
     "metadata": {},
     "output_type": "execute_result"
    }
   ],
   "source": [
    "device = \"cuda:0\" if torch.cuda.is_available() else \"cpu\"\n",
    "device"
   ]
  },
  {
   "cell_type": "code",
   "execution_count": 39,
   "metadata": {},
   "outputs": [],
   "source": [
    "train_gen = lambda: data_generator(X_train, y_train)\n",
    "valid_gen = lambda: data_generator(X_valid, y_valid)\n",
    "test_gen = lambda: data_generator(X_test, y_test)"
   ]
  },
  {
   "cell_type": "code",
   "execution_count": 40,
   "metadata": {},
   "outputs": [],
   "source": [
    "model = SimpleClassifer(300, 1).to(device)\n",
    "criterion = nn.BCEWithLogitsLoss()\n",
    "# You can use another optimizer if you want.\n",
    "optimizer = torch.optim.Adam(model.parameters())"
   ]
  },
  {
   "cell_type": "code",
   "execution_count": 45,
   "metadata": {},
   "outputs": [
    {
     "name": "stderr",
     "output_type": "stream",
     "text": [
      "100%|██████████| 50/50 [00:10<00:00,  4.97it/s]"
     ]
    },
    {
     "name": "stdout",
     "output_type": "stream",
     "text": [
      "0.018686393719911574\n",
      "[0.018727574822306633, 0.01871887889355421, 0.018710239735245705, 0.018701109935343265, 0.018692469020187855, 0.01868541429042816, 0.018677536918222905, 0.018669935773313044, 0.018663244396448134, 0.01865604279190302, 0.018648813781142234, 0.018642100946605206, 0.018635775400698187, 0.018629549902677536, 0.018622777232527733, 0.01861586354970932, 0.018610413558781146, 0.01860458108484745, 0.01859923469722271, 0.018593319377303123, 0.0185862030133605, 0.018582730048894883, 0.018577647218108177, 0.01857172982096672, 0.018566877400875093, 0.018561703144013883, 0.018557568268477917, 0.01855198560655117, 0.01854695085287094, 0.018543066826462746, 0.018537915354967117, 0.01853463135063648, 0.018529567489027978, 0.018524173867702484, 0.01852079865038395, 0.01851707646995783, 0.018512686067819594, 0.018507469941675663, 0.0185042776837945, 0.01850132581293583, 0.0184966839030385, 0.0184933305606246, 0.018489920453727247, 0.018486105628311635, 0.01848499654531479, 0.01847908453941345, 0.01847510112822056, 0.0184718666896224, 0.01846960913538933, 0.018466748622059822]\n",
      "[0.018923442667722702, 0.018914941120147705, 0.018904461336135863, 0.01891672031879425, 0.018888441473245622, 0.018898428922891616, 0.018866248124837875, 0.01886538702249527, 0.018866579830646515, 0.018866634583473204, 0.01887211402654648, 0.01884471745491028, 0.01883916537165642, 0.018825894498825074, 0.018828524434566497, 0.018818886995315552, 0.018820822054147722, 0.018818360078334807, 0.018789296048879623, 0.01881105548143387, 0.018808785605430603, 0.01878487074971199, 0.018786091899871828, 0.018790763890743255, 0.018768806660175323, 0.018775687950849534, 0.018782113164663314, 0.018764821338653564, 0.018746122586727143, 0.01878359405398369, 0.01876766166090965, 0.01875237137079239, 0.01873070178627968, 0.018762369692325594, 0.01874010053873062, 0.01871448620557785, 0.018726783686876296, 0.018761295330524445, 0.018736549550294877, 0.018711347216367722, 0.018713321763277054, 0.018716145539283753, 0.018704536283016205, 0.018732568275928497, 0.018703814232349396, 0.018698050957918166, 0.018702131432294846, 0.018698123812675476, 0.018686393719911574, 0.018699236369132996]\n"
     ]
    },
    {
     "name": "stderr",
     "output_type": "stream",
     "text": [
      "\n"
     ]
    }
   ],
   "source": [
    "import math\n",
    "\n",
    "nb_epochs = 50\n",
    "train_losses, valid_losses = [], []\n",
    "\n",
    "best_model = model\n",
    "best_validation_loss = np.Inf\n",
    "\n",
    "for epoch in tqdm(range(nb_epochs)):\n",
    "\n",
    "    # training\n",
    "    model.train()\n",
    "    train_loss = 0.0\n",
    "    # training loop\n",
    "    for batch_X, batch_Y in train_gen():\n",
    "        optimizer.zero_grad()\n",
    "        logits = model(batch_X.to(device)).squeeze()\n",
    "        loss = criterion(logits, batch_Y.float())#to device\n",
    "        train_loss += loss.item()\n",
    "        \n",
    "        loss.backward()\n",
    "        optimizer.step()\n",
    "      \n",
    "    train_losses.append(train_loss / len(X_train))\n",
    "\n",
    "\n",
    "    \n",
    "    # validation\n",
    "    model.eval()\n",
    "    valid_loss = 0.0\n",
    "    # validation loop\n",
    "    with torch.no_grad():\n",
    "        for batch_X, batch_Y in valid_gen():\n",
    "            logits = model(batch_X.to(device)).squeeze()\n",
    "            loss = criterion(logits, batch_Y.float())\n",
    "            valid_loss += loss.item()\n",
    "    valid_losses.append(valid_loss / len(X_valid))\n",
    "\n",
    "    if (valid_losses[-1] < best_validation_loss) :\n",
    "        best_validation_loss = valid_losses[-1]\n",
    "        best_model = deepcopy(model)\n",
    "\n",
    "print(best_validation_loss)\n",
    "print(train_losses)\n",
    "print(valid_losses)\n",
    "    "
   ]
  },
  {
   "cell_type": "code",
   "execution_count": 44,
   "metadata": {},
   "outputs": [
    {
     "data": {
      "text/plain": [
       "<matplotlib.legend.Legend at 0x7f6d249ae020>"
      ]
     },
     "execution_count": 44,
     "metadata": {},
     "output_type": "execute_result"
    },
    {
     "data": {
      "image/png": "[encoded data removed]",
      "text/plain": [
       "<Figure size 640x480 with 1 Axes>"
      ]
     },
     "metadata": {},
     "output_type": "display_data"
    }
   ],
   "source": [
    "plt.plot(train_losses, label=\"train loss\")\n",
    "plt.plot(valid_losses, label=\"valid loss\")\n",
    "plt.legend()"
   ]
  },
  {
   "cell_type": "code",
   "execution_count": 43,
   "metadata": {},
   "outputs": [
    {
     "name": "stdout",
     "output_type": "stream",
     "text": [
      "0.984375 0.98431875 0.98435625\n"
     ]
    }
   ],
   "source": [
    "def accuracy_computing(generator,X):\n",
    "    best_model.eval()\n",
    "    final_loss = 0\n",
    "    accuracy = 0\n",
    "    with torch.no_grad():\n",
    "        for batch_X, batch_Y in generator():\n",
    "            logits = best_model(batch_X).squeeze()\n",
    "            loss = criterion(logits, batch_Y.float())\n",
    "            final_loss += loss.item()\n",
    "            predictions = (logits > 0)\n",
    "            accuracy += (predictions == batch_Y).float().mean().item()\n",
    "    final_loss /= len(X)\n",
    "    accuracy /= len(X)\n",
    "    return 1 - accuracy\n",
    "        \n",
    "\n",
    "train_accuracy = accuracy_computing(train_gen, X_train)\n",
    "valid_accuracy = accuracy_computing(valid_gen, X_valid)\n",
    "test_accuracy = accuracy_computing(test_gen, X_test)\n",
    "\n",
    "print(train_accuracy, valid_accuracy, test_accuracy)"
   ]
  },
  {
   "attachments": {},
   "cell_type": "markdown",
   "metadata": {},
   "source": [
    "# FastText"
   ]
  },
  {
   "cell_type": "code",
   "execution_count": 35,
   "metadata": {},
   "outputs": [],
   "source": [
    "import fasttext as ft"
   ]
  },
  {
   "cell_type": "code",
   "execution_count": null,
   "metadata": {},
   "outputs": [],
   "source": [
    "model = ft.train_supervised(input=\"\")"
   ]
  }
 ],
 "metadata": {
  "kernelspec": {
   "display_name": "Python 3",
   "language": "python",
   "name": "python3"
  },
  "language_info": {
   "codemirror_mode": {
    "name": "ipython",
    "version": 3
   },
   "file_extension": ".py",
   "mimetype": "text/x-python",
   "name": "python",
   "nbconvert_exporter": "python",
   "pygments_lexer": "ipython3",
   "version": "3.10.6"
  },
  "orig_nbformat": 4
 },
 "nbformat": 4,
 "nbformat_minor": 2
}
